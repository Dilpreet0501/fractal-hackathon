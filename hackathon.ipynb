{
 "cells": [
  {
   "cell_type": "code",
   "execution_count": 1,
   "id": "671addbe-05d7-4914-b4d8-763f886e740d",
   "metadata": {},
   "outputs": [],
   "source": [
    "#importing libraries\n",
    "import pandas as pd\n",
    "import numpy as np\n",
    "import matplotlib.pyplot as plt\n",
    "import seaborn as sns"
   ]
  },
  {
   "cell_type": "code",
   "execution_count": 2,
   "id": "01e0d82c-bd6e-40fa-8ec2-28d2e2af6af8",
   "metadata": {},
   "outputs": [],
   "source": [
    "# Loading datasets\n",
    "train = pd.read_csv('train.csv')\n",
    "campaign_data = pd.read_csv('campaign_data.csv')\n",
    "coupon_item_mapping = pd.read_csv('coupon_item_mapping.csv')\n",
    "customer_demographics = pd.read_csv('customer_demographics.csv')\n",
    "customer_transaction_data = pd.read_csv('customer_transaction_data.csv')\n",
    "item_data = pd.read_csv('item_data.csv')\n",
    "test = pd.read_csv('test.csv')"
   ]
  },
  {
   "cell_type": "markdown",
   "id": "34571191-4d45-4bd4-a761-3ab40aa36ec1",
   "metadata": {},
   "source": [
    "Performing Data Pre-Processing and Data Cleaning in each DataFrame"
   ]
  },
  {
   "cell_type": "code",
   "execution_count": 4,
   "id": "ee7b195c-34b2-4d30-9f28-6e596fe643c1",
   "metadata": {},
   "outputs": [
    {
     "data": {
      "text/html": [
       "<div>\n",
       "<style scoped>\n",
       "    .dataframe tbody tr th:only-of-type {\n",
       "        vertical-align: middle;\n",
       "    }\n",
       "\n",
       "    .dataframe tbody tr th {\n",
       "        vertical-align: top;\n",
       "    }\n",
       "\n",
       "    .dataframe thead th {\n",
       "        text-align: right;\n",
       "    }\n",
       "</style>\n",
       "<table border=\"1\" class=\"dataframe\">\n",
       "  <thead>\n",
       "    <tr style=\"text-align: right;\">\n",
       "      <th></th>\n",
       "      <th>id</th>\n",
       "      <th>campaign_id</th>\n",
       "      <th>coupon_id</th>\n",
       "      <th>customer_id</th>\n",
       "      <th>redemption_status</th>\n",
       "    </tr>\n",
       "  </thead>\n",
       "  <tbody>\n",
       "    <tr>\n",
       "      <th>14851</th>\n",
       "      <td>24480</td>\n",
       "      <td>8</td>\n",
       "      <td>433</td>\n",
       "      <td>416</td>\n",
       "      <td>0</td>\n",
       "    </tr>\n",
       "    <tr>\n",
       "      <th>9288</th>\n",
       "      <td>15341</td>\n",
       "      <td>13</td>\n",
       "      <td>166</td>\n",
       "      <td>68</td>\n",
       "      <td>0</td>\n",
       "    </tr>\n",
       "    <tr>\n",
       "      <th>72792</th>\n",
       "      <td>119552</td>\n",
       "      <td>8</td>\n",
       "      <td>13</td>\n",
       "      <td>1001</td>\n",
       "      <td>0</td>\n",
       "    </tr>\n",
       "    <tr>\n",
       "      <th>48537</th>\n",
       "      <td>79575</td>\n",
       "      <td>8</td>\n",
       "      <td>983</td>\n",
       "      <td>1516</td>\n",
       "      <td>0</td>\n",
       "    </tr>\n",
       "    <tr>\n",
       "      <th>56132</th>\n",
       "      <td>92309</td>\n",
       "      <td>13</td>\n",
       "      <td>886</td>\n",
       "      <td>426</td>\n",
       "      <td>0</td>\n",
       "    </tr>\n",
       "    <tr>\n",
       "      <th>62456</th>\n",
       "      <td>102674</td>\n",
       "      <td>30</td>\n",
       "      <td>678</td>\n",
       "      <td>711</td>\n",
       "      <td>0</td>\n",
       "    </tr>\n",
       "    <tr>\n",
       "      <th>74749</th>\n",
       "      <td>122730</td>\n",
       "      <td>8</td>\n",
       "      <td>8</td>\n",
       "      <td>775</td>\n",
       "      <td>0</td>\n",
       "    </tr>\n",
       "    <tr>\n",
       "      <th>2997</th>\n",
       "      <td>4984</td>\n",
       "      <td>8</td>\n",
       "      <td>915</td>\n",
       "      <td>401</td>\n",
       "      <td>0</td>\n",
       "    </tr>\n",
       "    <tr>\n",
       "      <th>70011</th>\n",
       "      <td>115011</td>\n",
       "      <td>13</td>\n",
       "      <td>1033</td>\n",
       "      <td>337</td>\n",
       "      <td>0</td>\n",
       "    </tr>\n",
       "    <tr>\n",
       "      <th>51095</th>\n",
       "      <td>83820</td>\n",
       "      <td>8</td>\n",
       "      <td>700</td>\n",
       "      <td>1410</td>\n",
       "      <td>0</td>\n",
       "    </tr>\n",
       "  </tbody>\n",
       "</table>\n",
       "</div>"
      ],
      "text/plain": [
       "           id  campaign_id  coupon_id  customer_id  redemption_status\n",
       "14851   24480            8        433          416                  0\n",
       "9288    15341           13        166           68                  0\n",
       "72792  119552            8         13         1001                  0\n",
       "48537   79575            8        983         1516                  0\n",
       "56132   92309           13        886          426                  0\n",
       "62456  102674           30        678          711                  0\n",
       "74749  122730            8          8          775                  0\n",
       "2997     4984            8        915          401                  0\n",
       "70011  115011           13       1033          337                  0\n",
       "51095   83820            8        700         1410                  0"
      ]
     },
     "execution_count": 4,
     "metadata": {},
     "output_type": "execute_result"
    }
   ],
   "source": [
    "#considering train dataframe\n",
    "train.sample(10)"
   ]
  },
  {
   "cell_type": "code",
   "execution_count": 5,
   "id": "c108416d-b85a-40a2-a8ea-2cc432fe1fc7",
   "metadata": {},
   "outputs": [
    {
     "data": {
      "text/plain": [
       "(78369, 5)"
      ]
     },
     "execution_count": 5,
     "metadata": {},
     "output_type": "execute_result"
    }
   ],
   "source": [
    "train.shape"
   ]
  },
  {
   "cell_type": "code",
   "execution_count": 6,
   "id": "ff74825e-c402-46c1-a7e9-25661b1e38fc",
   "metadata": {},
   "outputs": [
    {
     "data": {
      "text/plain": [
       "id                   int64\n",
       "campaign_id          int64\n",
       "coupon_id            int64\n",
       "customer_id          int64\n",
       "redemption_status    int64\n",
       "dtype: object"
      ]
     },
     "execution_count": 6,
     "metadata": {},
     "output_type": "execute_result"
    }
   ],
   "source": [
    "train.dtypes"
   ]
  },
  {
   "cell_type": "markdown",
   "id": "74d0a820-55ed-4817-980a-79bc1b24f956",
   "metadata": {},
   "source": [
    "All the ids should be of type category,\n",
    "\n",
    "redemption_status represents 2 categories : 0 for Coupon not redeemed, 1 - Coupon redeemed, it should be of type category"
   ]
  },
  {
   "cell_type": "code",
   "execution_count": 8,
   "id": "11cad13f-b2dd-4646-98fe-1469c48b8cf3",
   "metadata": {},
   "outputs": [],
   "source": [
    "train['campaign_id'] = train['campaign_id'].astype('category')\n",
    "train['coupon_id'] = train['coupon_id'].astype('category')\n",
    "train['customer_id'] = train['customer_id'].astype('category')\n",
    "train['id'] = train['id'].astype('category')\n",
    "train['redemption_status'] = train['redemption_status'].astype('category')"
   ]
  },
  {
   "cell_type": "code",
   "execution_count": 9,
   "id": "dd5992f2-7e5a-488b-85dd-b7f89d5a8444",
   "metadata": {},
   "outputs": [
    {
     "data": {
      "text/plain": [
       "id                   category\n",
       "campaign_id          category\n",
       "coupon_id            category\n",
       "customer_id          category\n",
       "redemption_status    category\n",
       "dtype: object"
      ]
     },
     "execution_count": 9,
     "metadata": {},
     "output_type": "execute_result"
    }
   ],
   "source": [
    "#to verify the change\n",
    "train.dtypes"
   ]
  },
  {
   "cell_type": "code",
   "execution_count": 10,
   "id": "ce1792e4-d80c-41ba-a338-b64bfdf73190",
   "metadata": {},
   "outputs": [
    {
     "data": {
      "text/plain": [
       "id                   0\n",
       "campaign_id          0\n",
       "coupon_id            0\n",
       "customer_id          0\n",
       "redemption_status    0\n",
       "dtype: int64"
      ]
     },
     "execution_count": 10,
     "metadata": {},
     "output_type": "execute_result"
    }
   ],
   "source": [
    "# checking for missing values\n",
    "train.isnull().sum()"
   ]
  },
  {
   "cell_type": "markdown",
   "id": "8cddc1ba-4c2b-498b-8769-10eef11eacc3",
   "metadata": {},
   "source": [
    "There are no missing values in the train dataframe"
   ]
  },
  {
   "cell_type": "code",
   "execution_count": 12,
   "id": "2256e97a-794a-4a2b-b55b-e7bb07ac8203",
   "metadata": {},
   "outputs": [
    {
     "data": {
      "text/plain": [
       "0"
      ]
     },
     "execution_count": 12,
     "metadata": {},
     "output_type": "execute_result"
    }
   ],
   "source": [
    "#checking for duplicated rows\n",
    "train.duplicated().sum()"
   ]
  },
  {
   "cell_type": "markdown",
   "id": "a8260e2e-1b69-463f-8f8f-69b49a924658",
   "metadata": {},
   "source": [
    "There are no duplicate rows in the train dataframe"
   ]
  },
  {
   "cell_type": "code",
   "execution_count": 14,
   "id": "fb6df3e8-641b-4480-a11e-90e30acac648",
   "metadata": {},
   "outputs": [
    {
     "data": {
      "text/html": [
       "<div>\n",
       "<style scoped>\n",
       "    .dataframe tbody tr th:only-of-type {\n",
       "        vertical-align: middle;\n",
       "    }\n",
       "\n",
       "    .dataframe tbody tr th {\n",
       "        vertical-align: top;\n",
       "    }\n",
       "\n",
       "    .dataframe thead th {\n",
       "        text-align: right;\n",
       "    }\n",
       "</style>\n",
       "<table border=\"1\" class=\"dataframe\">\n",
       "  <thead>\n",
       "    <tr style=\"text-align: right;\">\n",
       "      <th></th>\n",
       "      <th>id</th>\n",
       "      <th>campaign_id</th>\n",
       "      <th>coupon_id</th>\n",
       "      <th>customer_id</th>\n",
       "    </tr>\n",
       "  </thead>\n",
       "  <tbody>\n",
       "    <tr>\n",
       "      <th>41845</th>\n",
       "      <td>107071</td>\n",
       "      <td>18</td>\n",
       "      <td>543</td>\n",
       "      <td>407</td>\n",
       "    </tr>\n",
       "    <tr>\n",
       "      <th>24520</th>\n",
       "      <td>62720</td>\n",
       "      <td>20</td>\n",
       "      <td>721</td>\n",
       "      <td>33</td>\n",
       "    </tr>\n",
       "    <tr>\n",
       "      <th>14234</th>\n",
       "      <td>36464</td>\n",
       "      <td>23</td>\n",
       "      <td>266</td>\n",
       "      <td>566</td>\n",
       "    </tr>\n",
       "    <tr>\n",
       "      <th>3587</th>\n",
       "      <td>8921</td>\n",
       "      <td>20</td>\n",
       "      <td>389</td>\n",
       "      <td>1537</td>\n",
       "    </tr>\n",
       "    <tr>\n",
       "      <th>24799</th>\n",
       "      <td>63420</td>\n",
       "      <td>22</td>\n",
       "      <td>927</td>\n",
       "      <td>776</td>\n",
       "    </tr>\n",
       "    <tr>\n",
       "      <th>30619</th>\n",
       "      <td>78551</td>\n",
       "      <td>18</td>\n",
       "      <td>1014</td>\n",
       "      <td>1361</td>\n",
       "    </tr>\n",
       "    <tr>\n",
       "      <th>128</th>\n",
       "      <td>327</td>\n",
       "      <td>22</td>\n",
       "      <td>432</td>\n",
       "      <td>123</td>\n",
       "    </tr>\n",
       "    <tr>\n",
       "      <th>25900</th>\n",
       "      <td>66231</td>\n",
       "      <td>22</td>\n",
       "      <td>957</td>\n",
       "      <td>1496</td>\n",
       "    </tr>\n",
       "    <tr>\n",
       "      <th>15610</th>\n",
       "      <td>39981</td>\n",
       "      <td>18</td>\n",
       "      <td>898</td>\n",
       "      <td>922</td>\n",
       "    </tr>\n",
       "    <tr>\n",
       "      <th>17072</th>\n",
       "      <td>43684</td>\n",
       "      <td>22</td>\n",
       "      <td>432</td>\n",
       "      <td>817</td>\n",
       "    </tr>\n",
       "  </tbody>\n",
       "</table>\n",
       "</div>"
      ],
      "text/plain": [
       "           id  campaign_id  coupon_id  customer_id\n",
       "41845  107071           18        543          407\n",
       "24520   62720           20        721           33\n",
       "14234   36464           23        266          566\n",
       "3587     8921           20        389         1537\n",
       "24799   63420           22        927          776\n",
       "30619   78551           18       1014         1361\n",
       "128       327           22        432          123\n",
       "25900   66231           22        957         1496\n",
       "15610   39981           18        898          922\n",
       "17072   43684           22        432          817"
      ]
     },
     "execution_count": 14,
     "metadata": {},
     "output_type": "execute_result"
    }
   ],
   "source": [
    "# considering test dataframe\n",
    "test.sample(10)"
   ]
  },
  {
   "cell_type": "code",
   "execution_count": 15,
   "id": "8c975855-55a1-4a32-aba3-9a58cb02cf28",
   "metadata": {},
   "outputs": [
    {
     "data": {
      "text/plain": [
       "id             int64\n",
       "campaign_id    int64\n",
       "coupon_id      int64\n",
       "customer_id    int64\n",
       "dtype: object"
      ]
     },
     "execution_count": 15,
     "metadata": {},
     "output_type": "execute_result"
    }
   ],
   "source": [
    "test.dtypes"
   ]
  },
  {
   "cell_type": "markdown",
   "id": "6cd3b24a-c338-49d5-b048-af6769fab8a0",
   "metadata": {},
   "source": [
    "All the ids should be converted to category"
   ]
  },
  {
   "cell_type": "code",
   "execution_count": 17,
   "id": "09d5651e-9310-46b5-92aa-28160846cefe",
   "metadata": {},
   "outputs": [],
   "source": [
    "test['id'] = test['id'].astype('category')\n",
    "test['campaign_id'] = test['campaign_id'].astype('category')\n",
    "test['coupon_id'] = test['coupon_id'].astype('category')\n",
    "test['customer_id'] = test['customer_id'].astype('category')"
   ]
  },
  {
   "cell_type": "code",
   "execution_count": 18,
   "id": "69739945-c0c3-424a-992c-2288072da65a",
   "metadata": {},
   "outputs": [
    {
     "data": {
      "text/plain": [
       "id             category\n",
       "campaign_id    category\n",
       "coupon_id      category\n",
       "customer_id    category\n",
       "dtype: object"
      ]
     },
     "execution_count": 18,
     "metadata": {},
     "output_type": "execute_result"
    }
   ],
   "source": [
    "test.dtypes"
   ]
  },
  {
   "cell_type": "code",
   "execution_count": 19,
   "id": "52fa9cac-5084-4df4-afb3-3ee6a6f8ca13",
   "metadata": {},
   "outputs": [
    {
     "data": {
      "text/plain": [
       "id             0\n",
       "campaign_id    0\n",
       "coupon_id      0\n",
       "customer_id    0\n",
       "dtype: int64"
      ]
     },
     "execution_count": 19,
     "metadata": {},
     "output_type": "execute_result"
    }
   ],
   "source": [
    "test.isnull().sum()"
   ]
  },
  {
   "cell_type": "code",
   "execution_count": 20,
   "id": "b7b565b2-7123-429b-ba55-106d77bf8792",
   "metadata": {},
   "outputs": [
    {
     "data": {
      "text/plain": [
       "0"
      ]
     },
     "execution_count": 20,
     "metadata": {},
     "output_type": "execute_result"
    }
   ],
   "source": [
    "test.duplicated().sum()"
   ]
  },
  {
   "cell_type": "markdown",
   "id": "fd54226a-205a-43e3-bcf8-35e91a9aa96b",
   "metadata": {},
   "source": [
    "Analysing campaign_data"
   ]
  },
  {
   "cell_type": "code",
   "execution_count": 22,
   "id": "c2bcb76a-e65e-43f0-a34c-5a651357043f",
   "metadata": {},
   "outputs": [
    {
     "data": {
      "text/html": [
       "<div>\n",
       "<style scoped>\n",
       "    .dataframe tbody tr th:only-of-type {\n",
       "        vertical-align: middle;\n",
       "    }\n",
       "\n",
       "    .dataframe tbody tr th {\n",
       "        vertical-align: top;\n",
       "    }\n",
       "\n",
       "    .dataframe thead th {\n",
       "        text-align: right;\n",
       "    }\n",
       "</style>\n",
       "<table border=\"1\" class=\"dataframe\">\n",
       "  <thead>\n",
       "    <tr style=\"text-align: right;\">\n",
       "      <th></th>\n",
       "      <th>campaign_id</th>\n",
       "      <th>campaign_type</th>\n",
       "      <th>start_date</th>\n",
       "      <th>end_date</th>\n",
       "    </tr>\n",
       "  </thead>\n",
       "  <tbody>\n",
       "    <tr>\n",
       "      <th>19</th>\n",
       "      <td>5</td>\n",
       "      <td>Y</td>\n",
       "      <td>12/01/13</td>\n",
       "      <td>15/02/13</td>\n",
       "    </tr>\n",
       "    <tr>\n",
       "      <th>10</th>\n",
       "      <td>13</td>\n",
       "      <td>X</td>\n",
       "      <td>19/05/13</td>\n",
       "      <td>05/07/13</td>\n",
       "    </tr>\n",
       "    <tr>\n",
       "      <th>13</th>\n",
       "      <td>10</td>\n",
       "      <td>Y</td>\n",
       "      <td>08/04/13</td>\n",
       "      <td>10/05/13</td>\n",
       "    </tr>\n",
       "    <tr>\n",
       "      <th>0</th>\n",
       "      <td>24</td>\n",
       "      <td>Y</td>\n",
       "      <td>21/10/13</td>\n",
       "      <td>20/12/13</td>\n",
       "    </tr>\n",
       "    <tr>\n",
       "      <th>7</th>\n",
       "      <td>19</td>\n",
       "      <td>Y</td>\n",
       "      <td>26/08/13</td>\n",
       "      <td>27/09/13</td>\n",
       "    </tr>\n",
       "    <tr>\n",
       "      <th>11</th>\n",
       "      <td>11</td>\n",
       "      <td>Y</td>\n",
       "      <td>22/04/13</td>\n",
       "      <td>07/06/13</td>\n",
       "    </tr>\n",
       "    <tr>\n",
       "      <th>6</th>\n",
       "      <td>18</td>\n",
       "      <td>X</td>\n",
       "      <td>10/08/13</td>\n",
       "      <td>04/10/13</td>\n",
       "    </tr>\n",
       "    <tr>\n",
       "      <th>27</th>\n",
       "      <td>26</td>\n",
       "      <td>X</td>\n",
       "      <td>12/08/12</td>\n",
       "      <td>21/09/12</td>\n",
       "    </tr>\n",
       "    <tr>\n",
       "      <th>14</th>\n",
       "      <td>9</td>\n",
       "      <td>Y</td>\n",
       "      <td>11/03/13</td>\n",
       "      <td>12/04/13</td>\n",
       "    </tr>\n",
       "    <tr>\n",
       "      <th>26</th>\n",
       "      <td>27</td>\n",
       "      <td>Y</td>\n",
       "      <td>25/08/12</td>\n",
       "      <td>27/10/12</td>\n",
       "    </tr>\n",
       "  </tbody>\n",
       "</table>\n",
       "</div>"
      ],
      "text/plain": [
       "    campaign_id campaign_type start_date  end_date\n",
       "19            5             Y   12/01/13  15/02/13\n",
       "10           13             X   19/05/13  05/07/13\n",
       "13           10             Y   08/04/13  10/05/13\n",
       "0            24             Y   21/10/13  20/12/13\n",
       "7            19             Y   26/08/13  27/09/13\n",
       "11           11             Y   22/04/13  07/06/13\n",
       "6            18             X   10/08/13  04/10/13\n",
       "27           26             X   12/08/12  21/09/12\n",
       "14            9             Y   11/03/13  12/04/13\n",
       "26           27             Y   25/08/12  27/10/12"
      ]
     },
     "execution_count": 22,
     "metadata": {},
     "output_type": "execute_result"
    }
   ],
   "source": [
    "# considering campaign_data dataframe\n",
    "campaign_data.sample(10)"
   ]
  },
  {
   "cell_type": "code",
   "execution_count": 23,
   "id": "59a640a3-3b86-401e-8392-2959d47a85cd",
   "metadata": {},
   "outputs": [
    {
     "data": {
      "text/plain": [
       "(28, 4)"
      ]
     },
     "execution_count": 23,
     "metadata": {},
     "output_type": "execute_result"
    }
   ],
   "source": [
    "campaign_data.shape"
   ]
  },
  {
   "cell_type": "code",
   "execution_count": 24,
   "id": "5483e9bd-94a1-47a8-8fa1-6a016d421a8f",
   "metadata": {},
   "outputs": [
    {
     "data": {
      "text/plain": [
       "campaign_id       int64\n",
       "campaign_type    object\n",
       "start_date       object\n",
       "end_date         object\n",
       "dtype: object"
      ]
     },
     "execution_count": 24,
     "metadata": {},
     "output_type": "execute_result"
    }
   ],
   "source": [
    "campaign_data.dtypes"
   ]
  },
  {
   "cell_type": "markdown",
   "id": "1658e988-b0b8-420d-9f00-8213ce45d605",
   "metadata": {},
   "source": [
    "campaign_type represents Anonymised Campaign Type (X/Y), it should be of type category.\n",
    "start_date and end_date should be coverted to type datetime\n",
    "campaign_id should be of type category"
   ]
  },
  {
   "cell_type": "code",
   "execution_count": 26,
   "id": "8c3d1591-cdab-4af6-865a-c579c956b2d5",
   "metadata": {},
   "outputs": [],
   "source": [
    "campaign_data['campaign_id'] = campaign_data['campaign_id'].astype('category')\n",
    "campaign_data['campaign_type'] = campaign_data['campaign_type'].astype('category')\n",
    "campaign_data['start_date'] = pd.to_datetime(campaign_data['start_date'], format='%d/%m/%y')\n",
    "campaign_data['end_date'] = pd.to_datetime(campaign_data['end_date'], format='%d/%m/%y')\n"
   ]
  },
  {
   "cell_type": "code",
   "execution_count": 27,
   "id": "b5b619dc-a146-4fd5-9cf7-01059003f85f",
   "metadata": {},
   "outputs": [
    {
     "data": {
      "text/html": [
       "<div>\n",
       "<style scoped>\n",
       "    .dataframe tbody tr th:only-of-type {\n",
       "        vertical-align: middle;\n",
       "    }\n",
       "\n",
       "    .dataframe tbody tr th {\n",
       "        vertical-align: top;\n",
       "    }\n",
       "\n",
       "    .dataframe thead th {\n",
       "        text-align: right;\n",
       "    }\n",
       "</style>\n",
       "<table border=\"1\" class=\"dataframe\">\n",
       "  <thead>\n",
       "    <tr style=\"text-align: right;\">\n",
       "      <th></th>\n",
       "      <th>campaign_id</th>\n",
       "      <th>campaign_type</th>\n",
       "      <th>start_date</th>\n",
       "      <th>end_date</th>\n",
       "    </tr>\n",
       "  </thead>\n",
       "  <tbody>\n",
       "    <tr>\n",
       "      <th>0</th>\n",
       "      <td>24</td>\n",
       "      <td>Y</td>\n",
       "      <td>2013-10-21</td>\n",
       "      <td>2013-12-20</td>\n",
       "    </tr>\n",
       "    <tr>\n",
       "      <th>1</th>\n",
       "      <td>25</td>\n",
       "      <td>Y</td>\n",
       "      <td>2013-10-21</td>\n",
       "      <td>2013-11-22</td>\n",
       "    </tr>\n",
       "    <tr>\n",
       "      <th>2</th>\n",
       "      <td>20</td>\n",
       "      <td>Y</td>\n",
       "      <td>2013-09-07</td>\n",
       "      <td>2013-11-16</td>\n",
       "    </tr>\n",
       "    <tr>\n",
       "      <th>3</th>\n",
       "      <td>23</td>\n",
       "      <td>Y</td>\n",
       "      <td>2013-10-08</td>\n",
       "      <td>2013-11-15</td>\n",
       "    </tr>\n",
       "    <tr>\n",
       "      <th>4</th>\n",
       "      <td>21</td>\n",
       "      <td>Y</td>\n",
       "      <td>2013-09-16</td>\n",
       "      <td>2013-10-18</td>\n",
       "    </tr>\n",
       "  </tbody>\n",
       "</table>\n",
       "</div>"
      ],
      "text/plain": [
       "  campaign_id campaign_type start_date   end_date\n",
       "0          24             Y 2013-10-21 2013-12-20\n",
       "1          25             Y 2013-10-21 2013-11-22\n",
       "2          20             Y 2013-09-07 2013-11-16\n",
       "3          23             Y 2013-10-08 2013-11-15\n",
       "4          21             Y 2013-09-16 2013-10-18"
      ]
     },
     "execution_count": 27,
     "metadata": {},
     "output_type": "execute_result"
    }
   ],
   "source": [
    "campaign_data.head()"
   ]
  },
  {
   "cell_type": "code",
   "execution_count": 28,
   "id": "e6e170f9-4fd3-4c45-9a09-4a062388f9f9",
   "metadata": {},
   "outputs": [
    {
     "data": {
      "text/plain": [
       "campaign_id            category\n",
       "campaign_type          category\n",
       "start_date       datetime64[ns]\n",
       "end_date         datetime64[ns]\n",
       "dtype: object"
      ]
     },
     "execution_count": 28,
     "metadata": {},
     "output_type": "execute_result"
    }
   ],
   "source": [
    "campaign_data.dtypes"
   ]
  },
  {
   "cell_type": "code",
   "execution_count": 29,
   "id": "117ed3b2-0e74-4ff1-9d5e-fe93e00f9129",
   "metadata": {},
   "outputs": [
    {
     "data": {
      "text/html": [
       "<div>\n",
       "<style scoped>\n",
       "    .dataframe tbody tr th:only-of-type {\n",
       "        vertical-align: middle;\n",
       "    }\n",
       "\n",
       "    .dataframe tbody tr th {\n",
       "        vertical-align: top;\n",
       "    }\n",
       "\n",
       "    .dataframe thead th {\n",
       "        text-align: right;\n",
       "    }\n",
       "</style>\n",
       "<table border=\"1\" class=\"dataframe\">\n",
       "  <thead>\n",
       "    <tr style=\"text-align: right;\">\n",
       "      <th></th>\n",
       "      <th>start_date</th>\n",
       "      <th>end_date</th>\n",
       "    </tr>\n",
       "  </thead>\n",
       "  <tbody>\n",
       "    <tr>\n",
       "      <th>count</th>\n",
       "      <td>28</td>\n",
       "      <td>28</td>\n",
       "    </tr>\n",
       "    <tr>\n",
       "      <th>mean</th>\n",
       "      <td>2013-04-03 12:00:00</td>\n",
       "      <td>2013-05-15 08:34:17.142857216</td>\n",
       "    </tr>\n",
       "    <tr>\n",
       "      <th>min</th>\n",
       "      <td>2012-08-12 00:00:00</td>\n",
       "      <td>2012-09-21 00:00:00</td>\n",
       "    </tr>\n",
       "    <tr>\n",
       "      <th>25%</th>\n",
       "      <td>2012-12-20 18:00:00</td>\n",
       "      <td>2013-02-02 18:00:00</td>\n",
       "    </tr>\n",
       "    <tr>\n",
       "      <th>50%</th>\n",
       "      <td>2013-03-25 00:00:00</td>\n",
       "      <td>2013-04-26 00:00:00</td>\n",
       "    </tr>\n",
       "    <tr>\n",
       "      <th>75%</th>\n",
       "      <td>2013-08-14 00:00:00</td>\n",
       "      <td>2013-09-28 18:00:00</td>\n",
       "    </tr>\n",
       "    <tr>\n",
       "      <th>max</th>\n",
       "      <td>2013-10-21 00:00:00</td>\n",
       "      <td>2013-12-20 00:00:00</td>\n",
       "    </tr>\n",
       "  </tbody>\n",
       "</table>\n",
       "</div>"
      ],
      "text/plain": [
       "                start_date                       end_date\n",
       "count                   28                             28\n",
       "mean   2013-04-03 12:00:00  2013-05-15 08:34:17.142857216\n",
       "min    2012-08-12 00:00:00            2012-09-21 00:00:00\n",
       "25%    2012-12-20 18:00:00            2013-02-02 18:00:00\n",
       "50%    2013-03-25 00:00:00            2013-04-26 00:00:00\n",
       "75%    2013-08-14 00:00:00            2013-09-28 18:00:00\n",
       "max    2013-10-21 00:00:00            2013-12-20 00:00:00"
      ]
     },
     "execution_count": 29,
     "metadata": {},
     "output_type": "execute_result"
    }
   ],
   "source": [
    "#get a summary of numerical features of the dataset\n",
    "campaign_data.describe()"
   ]
  },
  {
   "cell_type": "code",
   "execution_count": 30,
   "id": "904f5453-5704-4376-88c5-12b2391ab27a",
   "metadata": {},
   "outputs": [
    {
     "data": {
      "text/html": [
       "<div>\n",
       "<style scoped>\n",
       "    .dataframe tbody tr th:only-of-type {\n",
       "        vertical-align: middle;\n",
       "    }\n",
       "\n",
       "    .dataframe tbody tr th {\n",
       "        vertical-align: top;\n",
       "    }\n",
       "\n",
       "    .dataframe thead th {\n",
       "        text-align: right;\n",
       "    }\n",
       "</style>\n",
       "<table border=\"1\" class=\"dataframe\">\n",
       "  <thead>\n",
       "    <tr style=\"text-align: right;\">\n",
       "      <th></th>\n",
       "      <th>campaign_id</th>\n",
       "      <th>campaign_type</th>\n",
       "    </tr>\n",
       "  </thead>\n",
       "  <tbody>\n",
       "    <tr>\n",
       "      <th>count</th>\n",
       "      <td>28</td>\n",
       "      <td>28</td>\n",
       "    </tr>\n",
       "    <tr>\n",
       "      <th>unique</th>\n",
       "      <td>28</td>\n",
       "      <td>2</td>\n",
       "    </tr>\n",
       "    <tr>\n",
       "      <th>top</th>\n",
       "      <td>1</td>\n",
       "      <td>Y</td>\n",
       "    </tr>\n",
       "    <tr>\n",
       "      <th>freq</th>\n",
       "      <td>1</td>\n",
       "      <td>22</td>\n",
       "    </tr>\n",
       "  </tbody>\n",
       "</table>\n",
       "</div>"
      ],
      "text/plain": [
       "        campaign_id campaign_type\n",
       "count            28            28\n",
       "unique           28             2\n",
       "top               1             Y\n",
       "freq              1            22"
      ]
     },
     "execution_count": 30,
     "metadata": {},
     "output_type": "execute_result"
    }
   ],
   "source": [
    "# statistical summary of categorical columns\n",
    "campaign_data.describe(include=\"category\")"
   ]
  },
  {
   "cell_type": "markdown",
   "id": "ec522ced-9b39-4170-8009-311824ea248f",
   "metadata": {},
   "source": [
    "From the above analysis, we observe that -:\n",
    "1. There are 28 rows in campaign_data.\n",
    "2. In campaign_type feature, Y is the most frequently occuring feature (22 out of 28) and N occurs 6 out of 28 times.\n",
    "3. There are 28 unique campaign_ids identifying each row uniquely.\n",
    "4. There no null values in coupon_item_mapping as the number of rows is same as number of count of both coulmns."
   ]
  },
  {
   "cell_type": "code",
   "execution_count": 32,
   "id": "d991ed83-a87a-425a-9187-15b4b056c948",
   "metadata": {},
   "outputs": [
    {
     "data": {
      "text/plain": [
       "0"
      ]
     },
     "execution_count": 32,
     "metadata": {},
     "output_type": "execute_result"
    }
   ],
   "source": [
    "campaign_data.duplicated().sum()"
   ]
  },
  {
   "cell_type": "code",
   "execution_count": 33,
   "id": "f2c0c364-39f7-4ea3-a450-95acf4cb850a",
   "metadata": {},
   "outputs": [],
   "source": [
    "#getting more information from start_date and end_date\n",
    "campaign_data['campaign_duration'] = (campaign_data['end_date'] - campaign_data['start_date']).dt.days\n"
   ]
  },
  {
   "cell_type": "markdown",
   "id": "a612b812-a16e-4d7e-bbbe-df0141b35af9",
   "metadata": {},
   "source": [
    "campaign_duration represents no.of days the campaign happened"
   ]
  },
  {
   "cell_type": "code",
   "execution_count": 35,
   "id": "35d9b73f-8568-4ae4-a4ca-ddf2eb39df01",
   "metadata": {},
   "outputs": [
    {
     "data": {
      "text/html": [
       "<div>\n",
       "<style scoped>\n",
       "    .dataframe tbody tr th:only-of-type {\n",
       "        vertical-align: middle;\n",
       "    }\n",
       "\n",
       "    .dataframe tbody tr th {\n",
       "        vertical-align: top;\n",
       "    }\n",
       "\n",
       "    .dataframe thead th {\n",
       "        text-align: right;\n",
       "    }\n",
       "</style>\n",
       "<table border=\"1\" class=\"dataframe\">\n",
       "  <thead>\n",
       "    <tr style=\"text-align: right;\">\n",
       "      <th></th>\n",
       "      <th>campaign_id</th>\n",
       "      <th>campaign_type</th>\n",
       "      <th>start_date</th>\n",
       "      <th>end_date</th>\n",
       "      <th>campaign_duration</th>\n",
       "    </tr>\n",
       "  </thead>\n",
       "  <tbody>\n",
       "    <tr>\n",
       "      <th>0</th>\n",
       "      <td>24</td>\n",
       "      <td>Y</td>\n",
       "      <td>2013-10-21</td>\n",
       "      <td>2013-12-20</td>\n",
       "      <td>60</td>\n",
       "    </tr>\n",
       "    <tr>\n",
       "      <th>1</th>\n",
       "      <td>25</td>\n",
       "      <td>Y</td>\n",
       "      <td>2013-10-21</td>\n",
       "      <td>2013-11-22</td>\n",
       "      <td>32</td>\n",
       "    </tr>\n",
       "    <tr>\n",
       "      <th>2</th>\n",
       "      <td>20</td>\n",
       "      <td>Y</td>\n",
       "      <td>2013-09-07</td>\n",
       "      <td>2013-11-16</td>\n",
       "      <td>70</td>\n",
       "    </tr>\n",
       "    <tr>\n",
       "      <th>3</th>\n",
       "      <td>23</td>\n",
       "      <td>Y</td>\n",
       "      <td>2013-10-08</td>\n",
       "      <td>2013-11-15</td>\n",
       "      <td>38</td>\n",
       "    </tr>\n",
       "    <tr>\n",
       "      <th>4</th>\n",
       "      <td>21</td>\n",
       "      <td>Y</td>\n",
       "      <td>2013-09-16</td>\n",
       "      <td>2013-10-18</td>\n",
       "      <td>32</td>\n",
       "    </tr>\n",
       "  </tbody>\n",
       "</table>\n",
       "</div>"
      ],
      "text/plain": [
       "  campaign_id campaign_type start_date   end_date  campaign_duration\n",
       "0          24             Y 2013-10-21 2013-12-20                 60\n",
       "1          25             Y 2013-10-21 2013-11-22                 32\n",
       "2          20             Y 2013-09-07 2013-11-16                 70\n",
       "3          23             Y 2013-10-08 2013-11-15                 38\n",
       "4          21             Y 2013-09-16 2013-10-18                 32"
      ]
     },
     "execution_count": 35,
     "metadata": {},
     "output_type": "execute_result"
    }
   ],
   "source": [
    "campaign_data.head()"
   ]
  },
  {
   "cell_type": "code",
   "execution_count": 36,
   "id": "077c8979-ce5c-4f78-9103-92b0db37e2db",
   "metadata": {},
   "outputs": [
    {
     "data": {
      "text/plain": [
       "campaign_id                category\n",
       "campaign_type              category\n",
       "start_date           datetime64[ns]\n",
       "end_date             datetime64[ns]\n",
       "campaign_duration             int64\n",
       "dtype: object"
      ]
     },
     "execution_count": 36,
     "metadata": {},
     "output_type": "execute_result"
    }
   ],
   "source": [
    "campaign_data.dtypes"
   ]
  },
  {
   "cell_type": "code",
   "execution_count": 37,
   "id": "538c4046-7c66-4b7a-8fab-99fa928ed15c",
   "metadata": {},
   "outputs": [
    {
     "data": {
      "text/html": [
       "<div>\n",
       "<style scoped>\n",
       "    .dataframe tbody tr th:only-of-type {\n",
       "        vertical-align: middle;\n",
       "    }\n",
       "\n",
       "    .dataframe tbody tr th {\n",
       "        vertical-align: top;\n",
       "    }\n",
       "\n",
       "    .dataframe thead th {\n",
       "        text-align: right;\n",
       "    }\n",
       "</style>\n",
       "<table border=\"1\" class=\"dataframe\">\n",
       "  <thead>\n",
       "    <tr style=\"text-align: right;\">\n",
       "      <th></th>\n",
       "      <th>campaign_id</th>\n",
       "      <th>campaign_type</th>\n",
       "      <th>start_date</th>\n",
       "      <th>end_date</th>\n",
       "      <th>campaign_duration</th>\n",
       "    </tr>\n",
       "  </thead>\n",
       "  <tbody>\n",
       "  </tbody>\n",
       "</table>\n",
       "</div>"
      ],
      "text/plain": [
       "Empty DataFrame\n",
       "Columns: [campaign_id, campaign_type, start_date, end_date, campaign_duration]\n",
       "Index: []"
      ]
     },
     "execution_count": 37,
     "metadata": {},
     "output_type": "execute_result"
    }
   ],
   "source": [
    "#checking if campaign_duration is not zero neither less than 0 for any row\n",
    "invalid_duration = campaign_data[campaign_data['campaign_duration'] <= 0]\n",
    "invalid_duration"
   ]
  },
  {
   "cell_type": "markdown",
   "id": "07a8ab4c-690a-4475-b386-f6c1d38471a0",
   "metadata": {},
   "source": [
    "Thus, no such row exists where campaign_duration is either 0 or less than 0"
   ]
  },
  {
   "cell_type": "code",
   "execution_count": 39,
   "id": "765ee404-2be7-43fb-a6ff-cfa822d9ef41",
   "metadata": {},
   "outputs": [],
   "source": [
    "#creating sets for campaign_id for both the trian and campaign_data dataframe\n",
    "train_set = set(train.campaign_id.values)\n",
    "campaign_data_set = set(campaign_data.campaign_id.values)"
   ]
  },
  {
   "cell_type": "code",
   "execution_count": 213,
   "id": "6786f775-5a27-40b9-a676-7c4bf6faa4f7",
   "metadata": {},
   "outputs": [
    {
     "data": {
      "text/plain": [
       "{16, 17, 18, 19, 20, 21, 22, 23, 24, 25}"
      ]
     },
     "execution_count": 213,
     "metadata": {},
     "output_type": "execute_result"
    }
   ],
   "source": [
    "#finding the campaign_id not in train_data dataframe\n",
    "campaign_data_set - campaign_data_set.intersection(train_set)"
   ]
  },
  {
   "cell_type": "markdown",
   "id": "e4ffa470-21d1-4b7f-9ede-39b80d38a0f5",
   "metadata": {},
   "source": [
    "This shows that there 10 campaign_ids which are present in campaign_data  but not in train_data"
   ]
  },
  {
   "cell_type": "markdown",
   "id": "97813e7c-2fcd-40ce-b50f-12c558d956ea",
   "metadata": {},
   "source": [
    "Merging train, test data with campaign_data"
   ]
  },
  {
   "cell_type": "code",
   "execution_count": 43,
   "id": "e5584865-8640-4666-838f-27b1aa54e5ed",
   "metadata": {},
   "outputs": [],
   "source": [
    "train = pd.merge(train,campaign_data, on='campaign_id', how='left')\n",
    "test = pd.merge(test,campaign_data, on='campaign_id', how='left')"
   ]
  },
  {
   "cell_type": "code",
   "execution_count": 44,
   "id": "805a391e-6d01-415b-b92a-09895b80c0e4",
   "metadata": {},
   "outputs": [
    {
     "data": {
      "text/plain": [
       "(78369, 9)"
      ]
     },
     "execution_count": 44,
     "metadata": {},
     "output_type": "execute_result"
    }
   ],
   "source": [
    "train.shape"
   ]
  },
  {
   "cell_type": "code",
   "execution_count": 45,
   "id": "9e206029-3f8a-49ee-8c88-af2b3daff1ae",
   "metadata": {},
   "outputs": [
    {
     "data": {
      "text/html": [
       "<div>\n",
       "<style scoped>\n",
       "    .dataframe tbody tr th:only-of-type {\n",
       "        vertical-align: middle;\n",
       "    }\n",
       "\n",
       "    .dataframe tbody tr th {\n",
       "        vertical-align: top;\n",
       "    }\n",
       "\n",
       "    .dataframe thead th {\n",
       "        text-align: right;\n",
       "    }\n",
       "</style>\n",
       "<table border=\"1\" class=\"dataframe\">\n",
       "  <thead>\n",
       "    <tr style=\"text-align: right;\">\n",
       "      <th></th>\n",
       "      <th>id</th>\n",
       "      <th>campaign_id</th>\n",
       "      <th>coupon_id</th>\n",
       "      <th>customer_id</th>\n",
       "      <th>redemption_status</th>\n",
       "      <th>campaign_type</th>\n",
       "      <th>start_date</th>\n",
       "      <th>end_date</th>\n",
       "      <th>campaign_duration</th>\n",
       "    </tr>\n",
       "  </thead>\n",
       "  <tbody>\n",
       "    <tr>\n",
       "      <th>0</th>\n",
       "      <td>1</td>\n",
       "      <td>13</td>\n",
       "      <td>27</td>\n",
       "      <td>1053</td>\n",
       "      <td>0</td>\n",
       "      <td>X</td>\n",
       "      <td>2013-05-19</td>\n",
       "      <td>2013-07-05</td>\n",
       "      <td>47</td>\n",
       "    </tr>\n",
       "    <tr>\n",
       "      <th>1</th>\n",
       "      <td>2</td>\n",
       "      <td>13</td>\n",
       "      <td>116</td>\n",
       "      <td>48</td>\n",
       "      <td>0</td>\n",
       "      <td>X</td>\n",
       "      <td>2013-05-19</td>\n",
       "      <td>2013-07-05</td>\n",
       "      <td>47</td>\n",
       "    </tr>\n",
       "    <tr>\n",
       "      <th>2</th>\n",
       "      <td>6</td>\n",
       "      <td>9</td>\n",
       "      <td>635</td>\n",
       "      <td>205</td>\n",
       "      <td>0</td>\n",
       "      <td>Y</td>\n",
       "      <td>2013-03-11</td>\n",
       "      <td>2013-04-12</td>\n",
       "      <td>32</td>\n",
       "    </tr>\n",
       "    <tr>\n",
       "      <th>3</th>\n",
       "      <td>7</td>\n",
       "      <td>13</td>\n",
       "      <td>644</td>\n",
       "      <td>1050</td>\n",
       "      <td>0</td>\n",
       "      <td>X</td>\n",
       "      <td>2013-05-19</td>\n",
       "      <td>2013-07-05</td>\n",
       "      <td>47</td>\n",
       "    </tr>\n",
       "    <tr>\n",
       "      <th>4</th>\n",
       "      <td>9</td>\n",
       "      <td>8</td>\n",
       "      <td>1017</td>\n",
       "      <td>1489</td>\n",
       "      <td>0</td>\n",
       "      <td>X</td>\n",
       "      <td>2013-02-16</td>\n",
       "      <td>2013-04-05</td>\n",
       "      <td>48</td>\n",
       "    </tr>\n",
       "  </tbody>\n",
       "</table>\n",
       "</div>"
      ],
      "text/plain": [
       "  id  campaign_id coupon_id customer_id redemption_status campaign_type  \\\n",
       "0  1           13        27        1053                 0             X   \n",
       "1  2           13       116          48                 0             X   \n",
       "2  6            9       635         205                 0             Y   \n",
       "3  7           13       644        1050                 0             X   \n",
       "4  9            8      1017        1489                 0             X   \n",
       "\n",
       "  start_date   end_date  campaign_duration  \n",
       "0 2013-05-19 2013-07-05                 47  \n",
       "1 2013-05-19 2013-07-05                 47  \n",
       "2 2013-03-11 2013-04-12                 32  \n",
       "3 2013-05-19 2013-07-05                 47  \n",
       "4 2013-02-16 2013-04-05                 48  "
      ]
     },
     "execution_count": 45,
     "metadata": {},
     "output_type": "execute_result"
    }
   ],
   "source": [
    "train.head()"
   ]
  },
  {
   "cell_type": "code",
   "execution_count": 46,
   "id": "da20c923-5148-4a03-b99f-a0eb5833715e",
   "metadata": {},
   "outputs": [
    {
     "data": {
      "text/html": [
       "<div>\n",
       "<style scoped>\n",
       "    .dataframe tbody tr th:only-of-type {\n",
       "        vertical-align: middle;\n",
       "    }\n",
       "\n",
       "    .dataframe tbody tr th {\n",
       "        vertical-align: top;\n",
       "    }\n",
       "\n",
       "    .dataframe thead th {\n",
       "        text-align: right;\n",
       "    }\n",
       "</style>\n",
       "<table border=\"1\" class=\"dataframe\">\n",
       "  <thead>\n",
       "    <tr style=\"text-align: right;\">\n",
       "      <th></th>\n",
       "      <th>id</th>\n",
       "      <th>campaign_id</th>\n",
       "      <th>coupon_id</th>\n",
       "      <th>customer_id</th>\n",
       "      <th>campaign_type</th>\n",
       "      <th>start_date</th>\n",
       "      <th>end_date</th>\n",
       "      <th>campaign_duration</th>\n",
       "    </tr>\n",
       "  </thead>\n",
       "  <tbody>\n",
       "    <tr>\n",
       "      <th>0</th>\n",
       "      <td>3</td>\n",
       "      <td>22</td>\n",
       "      <td>869</td>\n",
       "      <td>967</td>\n",
       "      <td>X</td>\n",
       "      <td>2013-09-16</td>\n",
       "      <td>2013-10-18</td>\n",
       "      <td>32</td>\n",
       "    </tr>\n",
       "    <tr>\n",
       "      <th>1</th>\n",
       "      <td>4</td>\n",
       "      <td>20</td>\n",
       "      <td>389</td>\n",
       "      <td>1566</td>\n",
       "      <td>Y</td>\n",
       "      <td>2013-09-07</td>\n",
       "      <td>2013-11-16</td>\n",
       "      <td>70</td>\n",
       "    </tr>\n",
       "    <tr>\n",
       "      <th>2</th>\n",
       "      <td>5</td>\n",
       "      <td>22</td>\n",
       "      <td>981</td>\n",
       "      <td>510</td>\n",
       "      <td>X</td>\n",
       "      <td>2013-09-16</td>\n",
       "      <td>2013-10-18</td>\n",
       "      <td>32</td>\n",
       "    </tr>\n",
       "    <tr>\n",
       "      <th>3</th>\n",
       "      <td>8</td>\n",
       "      <td>25</td>\n",
       "      <td>1069</td>\n",
       "      <td>361</td>\n",
       "      <td>Y</td>\n",
       "      <td>2013-10-21</td>\n",
       "      <td>2013-11-22</td>\n",
       "      <td>32</td>\n",
       "    </tr>\n",
       "    <tr>\n",
       "      <th>4</th>\n",
       "      <td>10</td>\n",
       "      <td>17</td>\n",
       "      <td>498</td>\n",
       "      <td>811</td>\n",
       "      <td>Y</td>\n",
       "      <td>2013-07-29</td>\n",
       "      <td>2013-08-30</td>\n",
       "      <td>32</td>\n",
       "    </tr>\n",
       "  </tbody>\n",
       "</table>\n",
       "</div>"
      ],
      "text/plain": [
       "   id  campaign_id coupon_id customer_id campaign_type start_date   end_date  \\\n",
       "0   3           22       869         967             X 2013-09-16 2013-10-18   \n",
       "1   4           20       389        1566             Y 2013-09-07 2013-11-16   \n",
       "2   5           22       981         510             X 2013-09-16 2013-10-18   \n",
       "3   8           25      1069         361             Y 2013-10-21 2013-11-22   \n",
       "4  10           17       498         811             Y 2013-07-29 2013-08-30   \n",
       "\n",
       "   campaign_duration  \n",
       "0                 32  \n",
       "1                 70  \n",
       "2                 32  \n",
       "3                 32  \n",
       "4                 32  "
      ]
     },
     "execution_count": 46,
     "metadata": {},
     "output_type": "execute_result"
    }
   ],
   "source": [
    "test.head()"
   ]
  },
  {
   "cell_type": "markdown",
   "id": "f9991383-63ad-4c2b-8e0f-ce013057612e",
   "metadata": {},
   "source": [
    "Analysis of coupon_item_mapping"
   ]
  },
  {
   "cell_type": "code",
   "execution_count": 48,
   "id": "1797a166-6c97-4831-b236-08ab7b6db9e1",
   "metadata": {},
   "outputs": [
    {
     "data": {
      "text/html": [
       "<div>\n",
       "<style scoped>\n",
       "    .dataframe tbody tr th:only-of-type {\n",
       "        vertical-align: middle;\n",
       "    }\n",
       "\n",
       "    .dataframe tbody tr th {\n",
       "        vertical-align: top;\n",
       "    }\n",
       "\n",
       "    .dataframe thead th {\n",
       "        text-align: right;\n",
       "    }\n",
       "</style>\n",
       "<table border=\"1\" class=\"dataframe\">\n",
       "  <thead>\n",
       "    <tr style=\"text-align: right;\">\n",
       "      <th></th>\n",
       "      <th>coupon_id</th>\n",
       "      <th>item_id</th>\n",
       "    </tr>\n",
       "  </thead>\n",
       "  <tbody>\n",
       "    <tr>\n",
       "      <th>77751</th>\n",
       "      <td>33</td>\n",
       "      <td>47083</td>\n",
       "    </tr>\n",
       "    <tr>\n",
       "      <th>15291</th>\n",
       "      <td>24</td>\n",
       "      <td>73088</td>\n",
       "    </tr>\n",
       "    <tr>\n",
       "      <th>66919</th>\n",
       "      <td>31</td>\n",
       "      <td>30663</td>\n",
       "    </tr>\n",
       "    <tr>\n",
       "      <th>58001</th>\n",
       "      <td>23</td>\n",
       "      <td>64750</td>\n",
       "    </tr>\n",
       "    <tr>\n",
       "      <th>31992</th>\n",
       "      <td>1068</td>\n",
       "      <td>6827</td>\n",
       "    </tr>\n",
       "    <tr>\n",
       "      <th>79938</th>\n",
       "      <td>31</td>\n",
       "      <td>16578</td>\n",
       "    </tr>\n",
       "    <tr>\n",
       "      <th>74668</th>\n",
       "      <td>32</td>\n",
       "      <td>22576</td>\n",
       "    </tr>\n",
       "    <tr>\n",
       "      <th>86267</th>\n",
       "      <td>29</td>\n",
       "      <td>61989</td>\n",
       "    </tr>\n",
       "    <tr>\n",
       "      <th>15952</th>\n",
       "      <td>960</td>\n",
       "      <td>9445</td>\n",
       "    </tr>\n",
       "    <tr>\n",
       "      <th>10483</th>\n",
       "      <td>37</td>\n",
       "      <td>57099</td>\n",
       "    </tr>\n",
       "  </tbody>\n",
       "</table>\n",
       "</div>"
      ],
      "text/plain": [
       "       coupon_id  item_id\n",
       "77751         33    47083\n",
       "15291         24    73088\n",
       "66919         31    30663\n",
       "58001         23    64750\n",
       "31992       1068     6827\n",
       "79938         31    16578\n",
       "74668         32    22576\n",
       "86267         29    61989\n",
       "15952        960     9445\n",
       "10483         37    57099"
      ]
     },
     "execution_count": 48,
     "metadata": {},
     "output_type": "execute_result"
    }
   ],
   "source": [
    "#considering coupon_item_mapping dataframe\n",
    "coupon_item_mapping.sample(10)"
   ]
  },
  {
   "cell_type": "code",
   "execution_count": 49,
   "id": "eff66f52-824c-4b91-9e77-1289d52b61e5",
   "metadata": {},
   "outputs": [
    {
     "data": {
      "text/plain": [
       "(92663, 2)"
      ]
     },
     "execution_count": 49,
     "metadata": {},
     "output_type": "execute_result"
    }
   ],
   "source": [
    "coupon_item_mapping.shape"
   ]
  },
  {
   "cell_type": "code",
   "execution_count": 50,
   "id": "00c24bf3-9af7-4e12-a4c1-523e0a481614",
   "metadata": {},
   "outputs": [
    {
     "data": {
      "text/plain": [
       "coupon_id    int64\n",
       "item_id      int64\n",
       "dtype: object"
      ]
     },
     "execution_count": 50,
     "metadata": {},
     "output_type": "execute_result"
    }
   ],
   "source": [
    "coupon_item_mapping.dtypes"
   ]
  },
  {
   "cell_type": "markdown",
   "id": "9e985cdf-17c3-4a1a-bc4a-f8ab6b9a9d1b",
   "metadata": {},
   "source": [
    "Both the ids are of type int, should be converted to category"
   ]
  },
  {
   "cell_type": "code",
   "execution_count": 52,
   "id": "d81288a3-521d-46ef-9204-9afd0427d492",
   "metadata": {},
   "outputs": [],
   "source": [
    "coupon_item_mapping['coupon_id'] = coupon_item_mapping['coupon_id'].astype('category')\n",
    "coupon_item_mapping['item_id'] = coupon_item_mapping['item_id'].astype('category')"
   ]
  },
  {
   "cell_type": "code",
   "execution_count": 53,
   "id": "7738ed90-e475-41a4-b3f6-0758bd2f8aba",
   "metadata": {},
   "outputs": [
    {
     "data": {
      "text/plain": [
       "coupon_id    category\n",
       "item_id      category\n",
       "dtype: object"
      ]
     },
     "execution_count": 53,
     "metadata": {},
     "output_type": "execute_result"
    }
   ],
   "source": [
    "coupon_item_mapping.dtypes"
   ]
  },
  {
   "cell_type": "code",
   "execution_count": 54,
   "id": "693fce6a-9b37-4853-ae35-8c42dafddab2",
   "metadata": {},
   "outputs": [
    {
     "data": {
      "text/html": [
       "<div>\n",
       "<style scoped>\n",
       "    .dataframe tbody tr th:only-of-type {\n",
       "        vertical-align: middle;\n",
       "    }\n",
       "\n",
       "    .dataframe tbody tr th {\n",
       "        vertical-align: top;\n",
       "    }\n",
       "\n",
       "    .dataframe thead th {\n",
       "        text-align: right;\n",
       "    }\n",
       "</style>\n",
       "<table border=\"1\" class=\"dataframe\">\n",
       "  <thead>\n",
       "    <tr style=\"text-align: right;\">\n",
       "      <th></th>\n",
       "      <th>coupon_id</th>\n",
       "      <th>item_id</th>\n",
       "    </tr>\n",
       "  </thead>\n",
       "  <tbody>\n",
       "    <tr>\n",
       "      <th>count</th>\n",
       "      <td>92663</td>\n",
       "      <td>92663</td>\n",
       "    </tr>\n",
       "    <tr>\n",
       "      <th>unique</th>\n",
       "      <td>1116</td>\n",
       "      <td>36289</td>\n",
       "    </tr>\n",
       "    <tr>\n",
       "      <th>top</th>\n",
       "      <td>32</td>\n",
       "      <td>56523</td>\n",
       "    </tr>\n",
       "    <tr>\n",
       "      <th>freq</th>\n",
       "      <td>11814</td>\n",
       "      <td>11</td>\n",
       "    </tr>\n",
       "  </tbody>\n",
       "</table>\n",
       "</div>"
      ],
      "text/plain": [
       "        coupon_id  item_id\n",
       "count       92663    92663\n",
       "unique       1116    36289\n",
       "top            32    56523\n",
       "freq        11814       11"
      ]
     },
     "execution_count": 54,
     "metadata": {},
     "output_type": "execute_result"
    }
   ],
   "source": [
    "# statistical summary of categorical columns\n",
    "coupon_item_mapping.describe(include=\"category\")"
   ]
  },
  {
   "cell_type": "markdown",
   "id": "39749069-8342-499b-a239-010509ffa8a3",
   "metadata": {},
   "source": [
    "From the above , we observe that:\n",
    "1. We have 1,116 different coupons which are linked to 36,289 different items.\n",
    "2. Among coupon_ids , 32 id occurs more frequently.\n",
    "3. Among item_ids, 56523 id occurs more frequently.\n",
    "4. There no null values in coupon_item_mapping as the number of rows is same as number of count of both ids."
   ]
  },
  {
   "cell_type": "code",
   "execution_count": 56,
   "id": "ebace924-f903-46f2-bd84-ad5182b905e5",
   "metadata": {},
   "outputs": [
    {
     "data": {
      "text/plain": [
       "0"
      ]
     },
     "execution_count": 56,
     "metadata": {},
     "output_type": "execute_result"
    }
   ],
   "source": [
    "coupon_item_mapping.duplicated().sum()"
   ]
  },
  {
   "cell_type": "markdown",
   "id": "a294a7d4-ee9b-4665-9880-f220896f01cf",
   "metadata": {},
   "source": [
    "Analysis of customer_demographics"
   ]
  },
  {
   "cell_type": "code",
   "execution_count": 58,
   "id": "7dca33cf-5900-4b4e-b677-f88b6fab1775",
   "metadata": {},
   "outputs": [
    {
     "data": {
      "text/html": [
       "<div>\n",
       "<style scoped>\n",
       "    .dataframe tbody tr th:only-of-type {\n",
       "        vertical-align: middle;\n",
       "    }\n",
       "\n",
       "    .dataframe tbody tr th {\n",
       "        vertical-align: top;\n",
       "    }\n",
       "\n",
       "    .dataframe thead th {\n",
       "        text-align: right;\n",
       "    }\n",
       "</style>\n",
       "<table border=\"1\" class=\"dataframe\">\n",
       "  <thead>\n",
       "    <tr style=\"text-align: right;\">\n",
       "      <th></th>\n",
       "      <th>customer_id</th>\n",
       "      <th>age_range</th>\n",
       "      <th>marital_status</th>\n",
       "      <th>rented</th>\n",
       "      <th>family_size</th>\n",
       "      <th>no_of_children</th>\n",
       "      <th>income_bracket</th>\n",
       "    </tr>\n",
       "  </thead>\n",
       "  <tbody>\n",
       "    <tr>\n",
       "      <th>207</th>\n",
       "      <td>421</td>\n",
       "      <td>56-70</td>\n",
       "      <td>Married</td>\n",
       "      <td>0</td>\n",
       "      <td>2</td>\n",
       "      <td>NaN</td>\n",
       "      <td>5</td>\n",
       "    </tr>\n",
       "    <tr>\n",
       "      <th>135</th>\n",
       "      <td>268</td>\n",
       "      <td>70+</td>\n",
       "      <td>Married</td>\n",
       "      <td>0</td>\n",
       "      <td>2</td>\n",
       "      <td>NaN</td>\n",
       "      <td>2</td>\n",
       "    </tr>\n",
       "    <tr>\n",
       "      <th>47</th>\n",
       "      <td>89</td>\n",
       "      <td>46-55</td>\n",
       "      <td>NaN</td>\n",
       "      <td>0</td>\n",
       "      <td>1</td>\n",
       "      <td>NaN</td>\n",
       "      <td>3</td>\n",
       "    </tr>\n",
       "    <tr>\n",
       "      <th>718</th>\n",
       "      <td>1483</td>\n",
       "      <td>46-55</td>\n",
       "      <td>NaN</td>\n",
       "      <td>0</td>\n",
       "      <td>2</td>\n",
       "      <td>NaN</td>\n",
       "      <td>4</td>\n",
       "    </tr>\n",
       "    <tr>\n",
       "      <th>711</th>\n",
       "      <td>1471</td>\n",
       "      <td>46-55</td>\n",
       "      <td>NaN</td>\n",
       "      <td>0</td>\n",
       "      <td>1</td>\n",
       "      <td>NaN</td>\n",
       "      <td>5</td>\n",
       "    </tr>\n",
       "    <tr>\n",
       "      <th>506</th>\n",
       "      <td>1051</td>\n",
       "      <td>46-55</td>\n",
       "      <td>NaN</td>\n",
       "      <td>0</td>\n",
       "      <td>2</td>\n",
       "      <td>NaN</td>\n",
       "      <td>2</td>\n",
       "    </tr>\n",
       "    <tr>\n",
       "      <th>571</th>\n",
       "      <td>1190</td>\n",
       "      <td>56-70</td>\n",
       "      <td>Single</td>\n",
       "      <td>0</td>\n",
       "      <td>1</td>\n",
       "      <td>NaN</td>\n",
       "      <td>6</td>\n",
       "    </tr>\n",
       "    <tr>\n",
       "      <th>633</th>\n",
       "      <td>1321</td>\n",
       "      <td>36-45</td>\n",
       "      <td>Married</td>\n",
       "      <td>0</td>\n",
       "      <td>3</td>\n",
       "      <td>1</td>\n",
       "      <td>1</td>\n",
       "    </tr>\n",
       "    <tr>\n",
       "      <th>168</th>\n",
       "      <td>338</td>\n",
       "      <td>46-55</td>\n",
       "      <td>NaN</td>\n",
       "      <td>0</td>\n",
       "      <td>1</td>\n",
       "      <td>NaN</td>\n",
       "      <td>5</td>\n",
       "    </tr>\n",
       "    <tr>\n",
       "      <th>279</th>\n",
       "      <td>557</td>\n",
       "      <td>26-35</td>\n",
       "      <td>NaN</td>\n",
       "      <td>0</td>\n",
       "      <td>3</td>\n",
       "      <td>2</td>\n",
       "      <td>4</td>\n",
       "    </tr>\n",
       "  </tbody>\n",
       "</table>\n",
       "</div>"
      ],
      "text/plain": [
       "     customer_id age_range marital_status  rented family_size no_of_children  \\\n",
       "207          421     56-70        Married       0           2            NaN   \n",
       "135          268       70+        Married       0           2            NaN   \n",
       "47            89     46-55            NaN       0           1            NaN   \n",
       "718         1483     46-55            NaN       0           2            NaN   \n",
       "711         1471     46-55            NaN       0           1            NaN   \n",
       "506         1051     46-55            NaN       0           2            NaN   \n",
       "571         1190     56-70         Single       0           1            NaN   \n",
       "633         1321     36-45        Married       0           3              1   \n",
       "168          338     46-55            NaN       0           1            NaN   \n",
       "279          557     26-35            NaN       0           3              2   \n",
       "\n",
       "     income_bracket  \n",
       "207               5  \n",
       "135               2  \n",
       "47                3  \n",
       "718               4  \n",
       "711               5  \n",
       "506               2  \n",
       "571               6  \n",
       "633               1  \n",
       "168               5  \n",
       "279               4  "
      ]
     },
     "execution_count": 58,
     "metadata": {},
     "output_type": "execute_result"
    }
   ],
   "source": [
    "#considering customer_demographics dataframe\n",
    "customer_demographics.sample(10)"
   ]
  },
  {
   "cell_type": "code",
   "execution_count": 59,
   "id": "77dfcc59-a153-4d49-848c-bc204c10d019",
   "metadata": {},
   "outputs": [
    {
     "data": {
      "text/plain": [
       "(760, 7)"
      ]
     },
     "execution_count": 59,
     "metadata": {},
     "output_type": "execute_result"
    }
   ],
   "source": [
    "customer_demographics.shape"
   ]
  },
  {
   "cell_type": "code",
   "execution_count": 60,
   "id": "0853171c-156d-4cca-a6cb-2119a13a5030",
   "metadata": {},
   "outputs": [
    {
     "data": {
      "text/plain": [
       "customer_id        int64\n",
       "age_range         object\n",
       "marital_status    object\n",
       "rented             int64\n",
       "family_size       object\n",
       "no_of_children    object\n",
       "income_bracket     int64\n",
       "dtype: object"
      ]
     },
     "execution_count": 60,
     "metadata": {},
     "output_type": "execute_result"
    }
   ],
   "source": [
    "customer_demographics.dtypes"
   ]
  },
  {
   "cell_type": "markdown",
   "id": "8a76f3a1-4848-472b-bb3f-8f6259ad65ea",
   "metadata": {},
   "source": [
    "customer_id should be of type category\n",
    "age-range represents age range of customer family in years , should be converted to category \n",
    "marital_status contains two categories: single and married, should be converted to category\n",
    "rented represents 0 - not rented accommodation, 1 - rented accommodation, should be converted to category\n",
    "income_bracket represents label encoded income bracket, it should be converted to ordinal category"
   ]
  },
  {
   "cell_type": "code",
   "execution_count": 62,
   "id": "67efe554-e20f-4e81-ad06-822348a8433f",
   "metadata": {},
   "outputs": [],
   "source": [
    "#converting datatypes\n",
    "customer_demographics['customer_id'] = customer_demographics['customer_id'].astype('category')\n",
    "customer_demographics['age_range'] = customer_demographics['age_range'].astype('category')\n",
    "customer_demographics['marital_status'] = customer_demographics['marital_status'].astype('category')\n",
    "customer_demographics['rented'] = customer_demographics['rented'].astype('category')\n"
   ]
  },
  {
   "cell_type": "code",
   "execution_count": 63,
   "id": "cace8508-b08e-4af2-8b46-38a9d0d7f3e0",
   "metadata": {},
   "outputs": [
    {
     "data": {
      "text/plain": [
       "family_size\n",
       "2     303\n",
       "1     248\n",
       "3     104\n",
       "5+     57\n",
       "4      48\n",
       "Name: count, dtype: int64"
      ]
     },
     "execution_count": 63,
     "metadata": {},
     "output_type": "execute_result"
    }
   ],
   "source": [
    "customer_demographics['family_size'].value_counts()"
   ]
  },
  {
   "cell_type": "markdown",
   "id": "5106ded4-26f6-4c9f-be2f-bc4f22f900e8",
   "metadata": {},
   "source": [
    "As the family_size contains mixed datatype, integers and string, converting it into category"
   ]
  },
  {
   "cell_type": "code",
   "execution_count": 65,
   "id": "82026f1f-9fb3-4fbf-84d9-fa4484f09125",
   "metadata": {},
   "outputs": [],
   "source": [
    "customer_demographics['family_size'] = customer_demographics['family_size'].astype('category')"
   ]
  },
  {
   "cell_type": "code",
   "execution_count": 66,
   "id": "74bfb3f3-0395-4367-a6da-d9f36e9a30b4",
   "metadata": {},
   "outputs": [
    {
     "data": {
      "text/plain": [
       "no_of_children\n",
       "1     107\n",
       "3+     60\n",
       "2      55\n",
       "Name: count, dtype: int64"
      ]
     },
     "execution_count": 66,
     "metadata": {},
     "output_type": "execute_result"
    }
   ],
   "source": [
    "customer_demographics['no_of_children'].value_counts()"
   ]
  },
  {
   "cell_type": "markdown",
   "id": "96009398-4733-49d0-8755-960b65b6c004",
   "metadata": {},
   "source": [
    "Same as , no_of_children contains mixed datatype, integers and string, converting it into category"
   ]
  },
  {
   "cell_type": "code",
   "execution_count": 68,
   "id": "36a1d170-13c8-4eb8-b892-02c9f11e5195",
   "metadata": {},
   "outputs": [],
   "source": [
    "customer_demographics['no_of_children'] = customer_demographics['no_of_children'].astype('category')"
   ]
  },
  {
   "cell_type": "code",
   "execution_count": 69,
   "id": "3d9fd654-5088-4a1a-be49-8892fccc54a6",
   "metadata": {},
   "outputs": [
    {
     "data": {
      "text/plain": [
       "income_bracket\n",
       "5     187\n",
       "4     165\n",
       "6      88\n",
       "3      70\n",
       "2      68\n",
       "1      59\n",
       "8      37\n",
       "7      32\n",
       "9      29\n",
       "12     10\n",
       "10     10\n",
       "11      5\n",
       "Name: count, dtype: int64"
      ]
     },
     "execution_count": 69,
     "metadata": {},
     "output_type": "execute_result"
    }
   ],
   "source": [
    "customer_demographics['income_bracket'].value_counts()"
   ]
  },
  {
   "cell_type": "code",
   "execution_count": 70,
   "id": "2389931f-4b62-40d8-b804-5a2ae9f70977",
   "metadata": {},
   "outputs": [],
   "source": [
    "#converting income_bracket into into ordinal ctegory\n",
    "values = [1, 2, 3, 4, 5, 6, 7, 8, 9,10, 11, 12]\n",
    "customer_demographics['income_bracket'] = pd.Categorical(\n",
    "    customer_demographics['income_bracket'],\n",
    "    categories=values,\n",
    "    ordered=True\n",
    ")\n"
   ]
  },
  {
   "cell_type": "code",
   "execution_count": 71,
   "id": "f96510cd-af84-4f7b-9004-7779bfe48332",
   "metadata": {},
   "outputs": [
    {
     "data": {
      "text/html": [
       "<div>\n",
       "<style scoped>\n",
       "    .dataframe tbody tr th:only-of-type {\n",
       "        vertical-align: middle;\n",
       "    }\n",
       "\n",
       "    .dataframe tbody tr th {\n",
       "        vertical-align: top;\n",
       "    }\n",
       "\n",
       "    .dataframe thead th {\n",
       "        text-align: right;\n",
       "    }\n",
       "</style>\n",
       "<table border=\"1\" class=\"dataframe\">\n",
       "  <thead>\n",
       "    <tr style=\"text-align: right;\">\n",
       "      <th></th>\n",
       "      <th>customer_id</th>\n",
       "      <th>age_range</th>\n",
       "      <th>marital_status</th>\n",
       "      <th>rented</th>\n",
       "      <th>family_size</th>\n",
       "      <th>no_of_children</th>\n",
       "      <th>income_bracket</th>\n",
       "    </tr>\n",
       "  </thead>\n",
       "  <tbody>\n",
       "    <tr>\n",
       "      <th>138</th>\n",
       "      <td>276</td>\n",
       "      <td>46-55</td>\n",
       "      <td>NaN</td>\n",
       "      <td>0</td>\n",
       "      <td>2</td>\n",
       "      <td>NaN</td>\n",
       "      <td>5</td>\n",
       "    </tr>\n",
       "    <tr>\n",
       "      <th>427</th>\n",
       "      <td>876</td>\n",
       "      <td>36-45</td>\n",
       "      <td>Single</td>\n",
       "      <td>0</td>\n",
       "      <td>1</td>\n",
       "      <td>NaN</td>\n",
       "      <td>9</td>\n",
       "    </tr>\n",
       "    <tr>\n",
       "      <th>74</th>\n",
       "      <td>143</td>\n",
       "      <td>70+</td>\n",
       "      <td>NaN</td>\n",
       "      <td>0</td>\n",
       "      <td>1</td>\n",
       "      <td>NaN</td>\n",
       "      <td>2</td>\n",
       "    </tr>\n",
       "    <tr>\n",
       "      <th>387</th>\n",
       "      <td>789</td>\n",
       "      <td>46-55</td>\n",
       "      <td>NaN</td>\n",
       "      <td>0</td>\n",
       "      <td>2</td>\n",
       "      <td>NaN</td>\n",
       "      <td>1</td>\n",
       "    </tr>\n",
       "    <tr>\n",
       "      <th>600</th>\n",
       "      <td>1250</td>\n",
       "      <td>36-45</td>\n",
       "      <td>Married</td>\n",
       "      <td>0</td>\n",
       "      <td>5+</td>\n",
       "      <td>3+</td>\n",
       "      <td>8</td>\n",
       "    </tr>\n",
       "    <tr>\n",
       "      <th>393</th>\n",
       "      <td>799</td>\n",
       "      <td>70+</td>\n",
       "      <td>NaN</td>\n",
       "      <td>0</td>\n",
       "      <td>1</td>\n",
       "      <td>NaN</td>\n",
       "      <td>5</td>\n",
       "    </tr>\n",
       "    <tr>\n",
       "      <th>314</th>\n",
       "      <td>628</td>\n",
       "      <td>46-55</td>\n",
       "      <td>Married</td>\n",
       "      <td>0</td>\n",
       "      <td>3</td>\n",
       "      <td>1</td>\n",
       "      <td>4</td>\n",
       "    </tr>\n",
       "    <tr>\n",
       "      <th>261</th>\n",
       "      <td>524</td>\n",
       "      <td>26-35</td>\n",
       "      <td>NaN</td>\n",
       "      <td>0</td>\n",
       "      <td>1</td>\n",
       "      <td>NaN</td>\n",
       "      <td>5</td>\n",
       "    </tr>\n",
       "    <tr>\n",
       "      <th>28</th>\n",
       "      <td>52</td>\n",
       "      <td>36-45</td>\n",
       "      <td>Married</td>\n",
       "      <td>0</td>\n",
       "      <td>5+</td>\n",
       "      <td>3+</td>\n",
       "      <td>7</td>\n",
       "    </tr>\n",
       "    <tr>\n",
       "      <th>496</th>\n",
       "      <td>1021</td>\n",
       "      <td>26-35</td>\n",
       "      <td>NaN</td>\n",
       "      <td>0</td>\n",
       "      <td>1</td>\n",
       "      <td>NaN</td>\n",
       "      <td>4</td>\n",
       "    </tr>\n",
       "  </tbody>\n",
       "</table>\n",
       "</div>"
      ],
      "text/plain": [
       "    customer_id age_range marital_status rented family_size no_of_children  \\\n",
       "138         276     46-55            NaN      0           2            NaN   \n",
       "427         876     36-45         Single      0           1            NaN   \n",
       "74          143       70+            NaN      0           1            NaN   \n",
       "387         789     46-55            NaN      0           2            NaN   \n",
       "600        1250     36-45        Married      0          5+             3+   \n",
       "393         799       70+            NaN      0           1            NaN   \n",
       "314         628     46-55        Married      0           3              1   \n",
       "261         524     26-35            NaN      0           1            NaN   \n",
       "28           52     36-45        Married      0          5+             3+   \n",
       "496        1021     26-35            NaN      0           1            NaN   \n",
       "\n",
       "    income_bracket  \n",
       "138              5  \n",
       "427              9  \n",
       "74               2  \n",
       "387              1  \n",
       "600              8  \n",
       "393              5  \n",
       "314              4  \n",
       "261              5  \n",
       "28               7  \n",
       "496              4  "
      ]
     },
     "execution_count": 71,
     "metadata": {},
     "output_type": "execute_result"
    }
   ],
   "source": [
    "customer_demographics.sample(10)"
   ]
  },
  {
   "cell_type": "code",
   "execution_count": 72,
   "id": "ad18b24c-e716-427a-aa9e-3feec87f2de5",
   "metadata": {},
   "outputs": [
    {
     "data": {
      "text/plain": [
       "customer_id       category\n",
       "age_range         category\n",
       "marital_status    category\n",
       "rented            category\n",
       "family_size       category\n",
       "no_of_children    category\n",
       "income_bracket    category\n",
       "dtype: object"
      ]
     },
     "execution_count": 72,
     "metadata": {},
     "output_type": "execute_result"
    }
   ],
   "source": [
    "customer_demographics.dtypes"
   ]
  },
  {
   "cell_type": "code",
   "execution_count": 73,
   "id": "3d58bed3-55cb-416f-9459-817ccbc7fde6",
   "metadata": {},
   "outputs": [
    {
     "data": {
      "text/plain": [
       "customer_id         0\n",
       "age_range           0\n",
       "marital_status    329\n",
       "rented              0\n",
       "family_size         0\n",
       "no_of_children    538\n",
       "income_bracket      0\n",
       "dtype: int64"
      ]
     },
     "execution_count": 73,
     "metadata": {},
     "output_type": "execute_result"
    }
   ],
   "source": [
    "#checking for missing values as we can see from above they are present in marital_status and  no_of_children\n",
    "customer_demographics.isnull().sum()"
   ]
  },
  {
   "cell_type": "code",
   "execution_count": 74,
   "id": "ec9288f4-58cf-4d29-bac3-01cde39fc4e2",
   "metadata": {},
   "outputs": [
    {
     "data": {
      "text/plain": [
       "customer_id        0.000000\n",
       "age_range          0.000000\n",
       "marital_status    43.289474\n",
       "rented             0.000000\n",
       "family_size        0.000000\n",
       "no_of_children    70.789474\n",
       "income_bracket     0.000000\n",
       "dtype: float64"
      ]
     },
     "execution_count": 74,
     "metadata": {},
     "output_type": "execute_result"
    }
   ],
   "source": [
    "# checking the missing value percentage\n",
    "(customer_demographics.isnull().sum()/len(customer_demographics)) * 100"
   ]
  },
  {
   "cell_type": "markdown",
   "id": "cc431285-f79b-429e-a8f9-fcd110f6f30e",
   "metadata": {},
   "source": [
    "Here, 43% of data in marital_status and around 71% data in no_of_children are missing, which is very huge amount"
   ]
  },
  {
   "cell_type": "markdown",
   "id": "6de26b09-420f-4fc5-aecd-fa90b8d7e102",
   "metadata": {},
   "source": [
    "We will treat the missing values after merging the data"
   ]
  },
  {
   "cell_type": "code",
   "execution_count": 77,
   "id": "96b89d6c-7910-4252-bee7-6cc6645675e7",
   "metadata": {},
   "outputs": [],
   "source": [
    "# #adding Unknown category to marital_status\n",
    "# customer_demographics['marital_status'] = customer_demographics['marital_status'].cat.add_categories([\"Unknown\"])\n",
    "# customer_demographics.fillna({'marital_status': \"Unknown\"}, inplace=True)\n",
    "\n",
    "# #adding Unknown category to no_of_children\n",
    "# customer_demographics['no_of_children'] = customer_demographics['no_of_children'].cat.add_categories([\"Unknown\"])\n",
    "# customer_demographics.fillna({'no_of_children': \"Unknown\"}, inplace=True)\n",
    "\n"
   ]
  },
  {
   "cell_type": "code",
   "execution_count": 78,
   "id": "82bdac2f-dabc-492f-957d-19a098b9d409",
   "metadata": {},
   "outputs": [],
   "source": [
    "# customer_demographics['marital_status'].isnull().sum()"
   ]
  },
  {
   "cell_type": "code",
   "execution_count": 79,
   "id": "fc72311f-9691-438d-b6e4-471e18107b19",
   "metadata": {},
   "outputs": [],
   "source": [
    "# customer_demographics['no_of_children'].isnull().sum()"
   ]
  },
  {
   "cell_type": "code",
   "execution_count": 80,
   "id": "6ccb42dc-b091-4ce8-b18a-6003a3c6c7a5",
   "metadata": {},
   "outputs": [
    {
     "data": {
      "text/plain": [
       "0"
      ]
     },
     "execution_count": 80,
     "metadata": {},
     "output_type": "execute_result"
    }
   ],
   "source": [
    "#checking for duplicate rows\n",
    "customer_demographics.duplicated().sum()"
   ]
  },
  {
   "cell_type": "code",
   "execution_count": 81,
   "id": "2e707553-808e-436e-8517-015673177706",
   "metadata": {},
   "outputs": [
    {
     "data": {
      "text/html": [
       "<div>\n",
       "<style scoped>\n",
       "    .dataframe tbody tr th:only-of-type {\n",
       "        vertical-align: middle;\n",
       "    }\n",
       "\n",
       "    .dataframe tbody tr th {\n",
       "        vertical-align: top;\n",
       "    }\n",
       "\n",
       "    .dataframe thead th {\n",
       "        text-align: right;\n",
       "    }\n",
       "</style>\n",
       "<table border=\"1\" class=\"dataframe\">\n",
       "  <thead>\n",
       "    <tr style=\"text-align: right;\">\n",
       "      <th></th>\n",
       "      <th>customer_id</th>\n",
       "      <th>age_range</th>\n",
       "      <th>marital_status</th>\n",
       "      <th>rented</th>\n",
       "      <th>family_size</th>\n",
       "      <th>no_of_children</th>\n",
       "      <th>income_bracket</th>\n",
       "    </tr>\n",
       "  </thead>\n",
       "  <tbody>\n",
       "    <tr>\n",
       "      <th>count</th>\n",
       "      <td>760</td>\n",
       "      <td>760</td>\n",
       "      <td>431</td>\n",
       "      <td>760</td>\n",
       "      <td>760</td>\n",
       "      <td>222</td>\n",
       "      <td>760</td>\n",
       "    </tr>\n",
       "    <tr>\n",
       "      <th>unique</th>\n",
       "      <td>760</td>\n",
       "      <td>6</td>\n",
       "      <td>2</td>\n",
       "      <td>2</td>\n",
       "      <td>5</td>\n",
       "      <td>3</td>\n",
       "      <td>12</td>\n",
       "    </tr>\n",
       "    <tr>\n",
       "      <th>top</th>\n",
       "      <td>1</td>\n",
       "      <td>46-55</td>\n",
       "      <td>Married</td>\n",
       "      <td>0</td>\n",
       "      <td>2</td>\n",
       "      <td>1</td>\n",
       "      <td>5</td>\n",
       "    </tr>\n",
       "    <tr>\n",
       "      <th>freq</th>\n",
       "      <td>1</td>\n",
       "      <td>271</td>\n",
       "      <td>317</td>\n",
       "      <td>719</td>\n",
       "      <td>303</td>\n",
       "      <td>107</td>\n",
       "      <td>187</td>\n",
       "    </tr>\n",
       "  </tbody>\n",
       "</table>\n",
       "</div>"
      ],
      "text/plain": [
       "        customer_id age_range marital_status  rented family_size  \\\n",
       "count           760       760            431     760         760   \n",
       "unique          760         6              2       2           5   \n",
       "top               1     46-55        Married       0           2   \n",
       "freq              1       271            317     719         303   \n",
       "\n",
       "       no_of_children  income_bracket  \n",
       "count             222             760  \n",
       "unique              3              12  \n",
       "top                 1               5  \n",
       "freq              107             187  "
      ]
     },
     "execution_count": 81,
     "metadata": {},
     "output_type": "execute_result"
    }
   ],
   "source": [
    "# statistical summary of categorical columns\n",
    "customer_demographics.describe(include=\"category\")"
   ]
  },
  {
   "cell_type": "code",
   "execution_count": 82,
   "id": "203f4cf6-d898-4ddf-a377-f42b385624d9",
   "metadata": {},
   "outputs": [
    {
     "data": {
      "text/plain": [
       "income_bracket\n",
       "5     187\n",
       "4     165\n",
       "6      88\n",
       "3      70\n",
       "2      68\n",
       "1      59\n",
       "8      37\n",
       "7      32\n",
       "9      29\n",
       "10     10\n",
       "12     10\n",
       "11      5\n",
       "Name: count, dtype: int64"
      ]
     },
     "execution_count": 82,
     "metadata": {},
     "output_type": "execute_result"
    }
   ],
   "source": [
    "customer_demographics['income_bracket'].value_counts()"
   ]
  },
  {
   "cell_type": "markdown",
   "id": "1ba11077-f168-4959-bb0a-64ba27290979",
   "metadata": {},
   "source": [
    "From the above, we observe:\n",
    "1. There are 760 unique values in customer_id .\n",
    "2. In age_range, 6 unique ranges are present out of which 46-55 is the most common range in family. \n",
    "3. There are null values present in marital_status and no_of_children .\n",
    "4. In family_size, there are 5 unique categories among which 2 is the most common family_size.\n",
    "5. Thre are 12 unique categories in income_bracket, out of which 5 is the most common, which shows that people with very low income (1,2, 3 ) are less , middle range income people (4,5,6) has more data points and very high income range (7,8,9,10,11,12) are very few.\n"
   ]
  },
  {
   "cell_type": "markdown",
   "id": "0c7e3215-e015-460e-b588-4130397b5681",
   "metadata": {},
   "source": [
    "Analysis of customer_transaction_data"
   ]
  },
  {
   "cell_type": "code",
   "execution_count": 85,
   "id": "e2f6f065-8010-4dc1-9715-5b3690826a52",
   "metadata": {},
   "outputs": [
    {
     "data": {
      "text/html": [
       "<div>\n",
       "<style scoped>\n",
       "    .dataframe tbody tr th:only-of-type {\n",
       "        vertical-align: middle;\n",
       "    }\n",
       "\n",
       "    .dataframe tbody tr th {\n",
       "        vertical-align: top;\n",
       "    }\n",
       "\n",
       "    .dataframe thead th {\n",
       "        text-align: right;\n",
       "    }\n",
       "</style>\n",
       "<table border=\"1\" class=\"dataframe\">\n",
       "  <thead>\n",
       "    <tr style=\"text-align: right;\">\n",
       "      <th></th>\n",
       "      <th>date</th>\n",
       "      <th>customer_id</th>\n",
       "      <th>item_id</th>\n",
       "      <th>quantity</th>\n",
       "      <th>selling_price</th>\n",
       "      <th>other_discount</th>\n",
       "      <th>coupon_discount</th>\n",
       "    </tr>\n",
       "  </thead>\n",
       "  <tbody>\n",
       "    <tr>\n",
       "      <th>163973</th>\n",
       "      <td>2012-05-05</td>\n",
       "      <td>746</td>\n",
       "      <td>48910</td>\n",
       "      <td>1</td>\n",
       "      <td>105.08</td>\n",
       "      <td>0.00</td>\n",
       "      <td>0.0</td>\n",
       "    </tr>\n",
       "    <tr>\n",
       "      <th>586651</th>\n",
       "      <td>2012-10-10</td>\n",
       "      <td>464</td>\n",
       "      <td>6028</td>\n",
       "      <td>1</td>\n",
       "      <td>52.01</td>\n",
       "      <td>-5.70</td>\n",
       "      <td>0.0</td>\n",
       "    </tr>\n",
       "    <tr>\n",
       "      <th>1044724</th>\n",
       "      <td>2013-03-21</td>\n",
       "      <td>772</td>\n",
       "      <td>18501</td>\n",
       "      <td>1</td>\n",
       "      <td>102.94</td>\n",
       "      <td>0.00</td>\n",
       "      <td>0.0</td>\n",
       "    </tr>\n",
       "    <tr>\n",
       "      <th>566361</th>\n",
       "      <td>2012-10-02</td>\n",
       "      <td>1367</td>\n",
       "      <td>19568</td>\n",
       "      <td>1</td>\n",
       "      <td>44.52</td>\n",
       "      <td>-26.36</td>\n",
       "      <td>0.0</td>\n",
       "    </tr>\n",
       "    <tr>\n",
       "      <th>271343</th>\n",
       "      <td>2012-06-16</td>\n",
       "      <td>918</td>\n",
       "      <td>12403</td>\n",
       "      <td>1</td>\n",
       "      <td>89.05</td>\n",
       "      <td>-53.07</td>\n",
       "      <td>0.0</td>\n",
       "    </tr>\n",
       "    <tr>\n",
       "      <th>785504</th>\n",
       "      <td>2012-12-19</td>\n",
       "      <td>244</td>\n",
       "      <td>14172</td>\n",
       "      <td>1</td>\n",
       "      <td>35.62</td>\n",
       "      <td>-22.08</td>\n",
       "      <td>0.0</td>\n",
       "    </tr>\n",
       "    <tr>\n",
       "      <th>1315970</th>\n",
       "      <td>2013-06-30</td>\n",
       "      <td>1442</td>\n",
       "      <td>5315</td>\n",
       "      <td>2</td>\n",
       "      <td>142.48</td>\n",
       "      <td>-17.81</td>\n",
       "      <td>0.0</td>\n",
       "    </tr>\n",
       "    <tr>\n",
       "      <th>232958</th>\n",
       "      <td>2012-06-01</td>\n",
       "      <td>1464</td>\n",
       "      <td>61434</td>\n",
       "      <td>1</td>\n",
       "      <td>27.07</td>\n",
       "      <td>0.00</td>\n",
       "      <td>0.0</td>\n",
       "    </tr>\n",
       "    <tr>\n",
       "      <th>1117538</th>\n",
       "      <td>2013-04-17</td>\n",
       "      <td>1022</td>\n",
       "      <td>25718</td>\n",
       "      <td>1</td>\n",
       "      <td>284.60</td>\n",
       "      <td>0.00</td>\n",
       "      <td>0.0</td>\n",
       "    </tr>\n",
       "    <tr>\n",
       "      <th>483841</th>\n",
       "      <td>2012-09-03</td>\n",
       "      <td>1475</td>\n",
       "      <td>6958</td>\n",
       "      <td>1</td>\n",
       "      <td>31.35</td>\n",
       "      <td>-25.29</td>\n",
       "      <td>0.0</td>\n",
       "    </tr>\n",
       "  </tbody>\n",
       "</table>\n",
       "</div>"
      ],
      "text/plain": [
       "               date  customer_id  item_id  quantity  selling_price  \\\n",
       "163973   2012-05-05          746    48910         1         105.08   \n",
       "586651   2012-10-10          464     6028         1          52.01   \n",
       "1044724  2013-03-21          772    18501         1         102.94   \n",
       "566361   2012-10-02         1367    19568         1          44.52   \n",
       "271343   2012-06-16          918    12403         1          89.05   \n",
       "785504   2012-12-19          244    14172         1          35.62   \n",
       "1315970  2013-06-30         1442     5315         2         142.48   \n",
       "232958   2012-06-01         1464    61434         1          27.07   \n",
       "1117538  2013-04-17         1022    25718         1         284.60   \n",
       "483841   2012-09-03         1475     6958         1          31.35   \n",
       "\n",
       "         other_discount  coupon_discount  \n",
       "163973             0.00              0.0  \n",
       "586651            -5.70              0.0  \n",
       "1044724            0.00              0.0  \n",
       "566361           -26.36              0.0  \n",
       "271343           -53.07              0.0  \n",
       "785504           -22.08              0.0  \n",
       "1315970          -17.81              0.0  \n",
       "232958             0.00              0.0  \n",
       "1117538            0.00              0.0  \n",
       "483841           -25.29              0.0  "
      ]
     },
     "execution_count": 85,
     "metadata": {},
     "output_type": "execute_result"
    }
   ],
   "source": [
    "#considering customer_transaction_data dataframe\n",
    "customer_transaction_data.sample(10)"
   ]
  },
  {
   "cell_type": "code",
   "execution_count": 86,
   "id": "461dc9e5-4501-4b3d-9a61-9418c29e37c4",
   "metadata": {},
   "outputs": [
    {
     "data": {
      "text/plain": [
       "(1324566, 7)"
      ]
     },
     "execution_count": 86,
     "metadata": {},
     "output_type": "execute_result"
    }
   ],
   "source": [
    "customer_transaction_data.shape"
   ]
  },
  {
   "cell_type": "code",
   "execution_count": 87,
   "id": "d85beb53-fd58-475f-884c-2984576dbb7b",
   "metadata": {},
   "outputs": [
    {
     "data": {
      "text/plain": [
       "date                object\n",
       "customer_id          int64\n",
       "item_id              int64\n",
       "quantity             int64\n",
       "selling_price      float64\n",
       "other_discount     float64\n",
       "coupon_discount    float64\n",
       "dtype: object"
      ]
     },
     "execution_count": 87,
     "metadata": {},
     "output_type": "execute_result"
    }
   ],
   "source": [
    "#checking for datatypes of each column\n",
    "customer_transaction_data.dtypes"
   ]
  },
  {
   "cell_type": "markdown",
   "id": "85433023-2be9-4a75-89a8-8053e567fbf5",
   "metadata": {},
   "source": [
    "date should be coverted to datetime datatype and customer_id and item_id should be of category datatype, \n",
    "\n",
    "rest of the coulmn's datatype is correct"
   ]
  },
  {
   "cell_type": "code",
   "execution_count": 89,
   "id": "6f530b82-41cd-4a25-8b1d-daee27e33dd4",
   "metadata": {},
   "outputs": [],
   "source": [
    "customer_transaction_data['date'] = pd.to_datetime(customer_transaction_data['date'])\n",
    "customer_transaction_data['customer_id'] = customer_transaction_data['customer_id'].astype('category')\n",
    "customer_transaction_data['item_id'] = customer_transaction_data['item_id'].astype('category')"
   ]
  },
  {
   "cell_type": "code",
   "execution_count": 90,
   "id": "cb75b1f7-4eda-4dfa-ba56-4c10c9cf85cc",
   "metadata": {},
   "outputs": [
    {
     "data": {
      "text/plain": [
       "date               datetime64[ns]\n",
       "customer_id              category\n",
       "item_id                  category\n",
       "quantity                    int64\n",
       "selling_price             float64\n",
       "other_discount            float64\n",
       "coupon_discount           float64\n",
       "dtype: object"
      ]
     },
     "execution_count": 90,
     "metadata": {},
     "output_type": "execute_result"
    }
   ],
   "source": [
    "customer_transaction_data.dtypes"
   ]
  },
  {
   "cell_type": "code",
   "execution_count": 91,
   "id": "5ffd2e0f-6023-4a22-ad1a-eac7794047ee",
   "metadata": {},
   "outputs": [
    {
     "data": {
      "text/plain": [
       "2916"
      ]
     },
     "execution_count": 91,
     "metadata": {},
     "output_type": "execute_result"
    }
   ],
   "source": [
    "#checking for duplicate rows\n",
    "customer_transaction_data.duplicated().sum()"
   ]
  },
  {
   "cell_type": "code",
   "execution_count": 92,
   "id": "ec4b6f62-fc89-4801-a760-3a990e7be458",
   "metadata": {},
   "outputs": [
    {
     "data": {
      "text/html": [
       "<div>\n",
       "<style scoped>\n",
       "    .dataframe tbody tr th:only-of-type {\n",
       "        vertical-align: middle;\n",
       "    }\n",
       "\n",
       "    .dataframe tbody tr th {\n",
       "        vertical-align: top;\n",
       "    }\n",
       "\n",
       "    .dataframe thead th {\n",
       "        text-align: right;\n",
       "    }\n",
       "</style>\n",
       "<table border=\"1\" class=\"dataframe\">\n",
       "  <thead>\n",
       "    <tr style=\"text-align: right;\">\n",
       "      <th></th>\n",
       "      <th>date</th>\n",
       "      <th>customer_id</th>\n",
       "      <th>item_id</th>\n",
       "      <th>quantity</th>\n",
       "      <th>selling_price</th>\n",
       "      <th>other_discount</th>\n",
       "      <th>coupon_discount</th>\n",
       "    </tr>\n",
       "  </thead>\n",
       "  <tbody>\n",
       "    <tr>\n",
       "      <th>5463</th>\n",
       "      <td>2012-01-19</td>\n",
       "      <td>801</td>\n",
       "      <td>32650</td>\n",
       "      <td>3</td>\n",
       "      <td>213.72</td>\n",
       "      <td>-159.22</td>\n",
       "      <td>0.00</td>\n",
       "    </tr>\n",
       "    <tr>\n",
       "      <th>5465</th>\n",
       "      <td>2012-01-19</td>\n",
       "      <td>801</td>\n",
       "      <td>32650</td>\n",
       "      <td>3</td>\n",
       "      <td>213.72</td>\n",
       "      <td>-159.22</td>\n",
       "      <td>0.00</td>\n",
       "    </tr>\n",
       "    <tr>\n",
       "      <th>5491</th>\n",
       "      <td>2012-01-19</td>\n",
       "      <td>814</td>\n",
       "      <td>25251</td>\n",
       "      <td>2</td>\n",
       "      <td>163.14</td>\n",
       "      <td>0.00</td>\n",
       "      <td>0.00</td>\n",
       "    </tr>\n",
       "    <tr>\n",
       "      <th>5493</th>\n",
       "      <td>2012-01-19</td>\n",
       "      <td>814</td>\n",
       "      <td>57670</td>\n",
       "      <td>2</td>\n",
       "      <td>21.37</td>\n",
       "      <td>0.00</td>\n",
       "      <td>0.00</td>\n",
       "    </tr>\n",
       "    <tr>\n",
       "      <th>5497</th>\n",
       "      <td>2012-01-19</td>\n",
       "      <td>814</td>\n",
       "      <td>25251</td>\n",
       "      <td>2</td>\n",
       "      <td>163.14</td>\n",
       "      <td>0.00</td>\n",
       "      <td>0.00</td>\n",
       "    </tr>\n",
       "    <tr>\n",
       "      <th>...</th>\n",
       "      <td>...</td>\n",
       "      <td>...</td>\n",
       "      <td>...</td>\n",
       "      <td>...</td>\n",
       "      <td>...</td>\n",
       "      <td>...</td>\n",
       "      <td>...</td>\n",
       "    </tr>\n",
       "    <tr>\n",
       "      <th>1323178</th>\n",
       "      <td>2013-07-03</td>\n",
       "      <td>1485</td>\n",
       "      <td>49741</td>\n",
       "      <td>1</td>\n",
       "      <td>142.12</td>\n",
       "      <td>-35.62</td>\n",
       "      <td>-71.24</td>\n",
       "    </tr>\n",
       "    <tr>\n",
       "      <th>1323390</th>\n",
       "      <td>2013-07-03</td>\n",
       "      <td>1558</td>\n",
       "      <td>64186</td>\n",
       "      <td>2</td>\n",
       "      <td>71.24</td>\n",
       "      <td>-20.66</td>\n",
       "      <td>-71.24</td>\n",
       "    </tr>\n",
       "    <tr>\n",
       "      <th>1323391</th>\n",
       "      <td>2013-07-03</td>\n",
       "      <td>1558</td>\n",
       "      <td>64186</td>\n",
       "      <td>2</td>\n",
       "      <td>71.24</td>\n",
       "      <td>-20.66</td>\n",
       "      <td>-71.24</td>\n",
       "    </tr>\n",
       "    <tr>\n",
       "      <th>1323412</th>\n",
       "      <td>2013-07-03</td>\n",
       "      <td>998</td>\n",
       "      <td>18118</td>\n",
       "      <td>2</td>\n",
       "      <td>152.45</td>\n",
       "      <td>0.00</td>\n",
       "      <td>-17.81</td>\n",
       "    </tr>\n",
       "    <tr>\n",
       "      <th>1323413</th>\n",
       "      <td>2013-07-03</td>\n",
       "      <td>998</td>\n",
       "      <td>18118</td>\n",
       "      <td>2</td>\n",
       "      <td>152.45</td>\n",
       "      <td>0.00</td>\n",
       "      <td>-17.81</td>\n",
       "    </tr>\n",
       "  </tbody>\n",
       "</table>\n",
       "<p>5747 rows × 7 columns</p>\n",
       "</div>"
      ],
      "text/plain": [
       "              date customer_id item_id  quantity  selling_price  \\\n",
       "5463    2012-01-19         801   32650         3         213.72   \n",
       "5465    2012-01-19         801   32650         3         213.72   \n",
       "5491    2012-01-19         814   25251         2         163.14   \n",
       "5493    2012-01-19         814   57670         2          21.37   \n",
       "5497    2012-01-19         814   25251         2         163.14   \n",
       "...            ...         ...     ...       ...            ...   \n",
       "1323178 2013-07-03        1485   49741         1         142.12   \n",
       "1323390 2013-07-03        1558   64186         2          71.24   \n",
       "1323391 2013-07-03        1558   64186         2          71.24   \n",
       "1323412 2013-07-03         998   18118         2         152.45   \n",
       "1323413 2013-07-03         998   18118         2         152.45   \n",
       "\n",
       "         other_discount  coupon_discount  \n",
       "5463            -159.22             0.00  \n",
       "5465            -159.22             0.00  \n",
       "5491               0.00             0.00  \n",
       "5493               0.00             0.00  \n",
       "5497               0.00             0.00  \n",
       "...                 ...              ...  \n",
       "1323178          -35.62           -71.24  \n",
       "1323390          -20.66           -71.24  \n",
       "1323391          -20.66           -71.24  \n",
       "1323412            0.00           -17.81  \n",
       "1323413            0.00           -17.81  \n",
       "\n",
       "[5747 rows x 7 columns]"
      ]
     },
     "execution_count": 92,
     "metadata": {},
     "output_type": "execute_result"
    }
   ],
   "source": [
    "#printing duplicate rows along with all of the occurences\n",
    "duplicate_rows = customer_transaction_data[customer_transaction_data.duplicated(keep=False)]\n",
    "duplicate_rows"
   ]
  },
  {
   "cell_type": "markdown",
   "id": "a2cee857-c8ae-417f-a6d8-2a8ff07b1e11",
   "metadata": {},
   "source": [
    "Thus, we can observe from above data, that there are 2916 duplicate rows present in customer_transaction_data."
   ]
  },
  {
   "cell_type": "code",
   "execution_count": 94,
   "id": "2dbdce73-0720-40e4-875b-222dd59a94e4",
   "metadata": {},
   "outputs": [],
   "source": [
    "#dropping the duplicate rows\n",
    "customer_transaction_data.drop_duplicates(inplace=True)"
   ]
  },
  {
   "cell_type": "code",
   "execution_count": 95,
   "id": "89ffb167-b273-4129-8cb9-db8dae044b03",
   "metadata": {},
   "outputs": [
    {
     "data": {
      "text/plain": [
       "0"
      ]
     },
     "execution_count": 95,
     "metadata": {},
     "output_type": "execute_result"
    }
   ],
   "source": [
    "customer_transaction_data.duplicated().sum()"
   ]
  },
  {
   "cell_type": "code",
   "execution_count": 96,
   "id": "ee9ae721-e12e-4d72-97dd-f64266093f56",
   "metadata": {},
   "outputs": [
    {
     "data": {
      "text/html": [
       "<div>\n",
       "<style scoped>\n",
       "    .dataframe tbody tr th:only-of-type {\n",
       "        vertical-align: middle;\n",
       "    }\n",
       "\n",
       "    .dataframe tbody tr th {\n",
       "        vertical-align: top;\n",
       "    }\n",
       "\n",
       "    .dataframe thead th {\n",
       "        text-align: right;\n",
       "    }\n",
       "</style>\n",
       "<table border=\"1\" class=\"dataframe\">\n",
       "  <thead>\n",
       "    <tr style=\"text-align: right;\">\n",
       "      <th></th>\n",
       "      <th>quantity</th>\n",
       "      <th>selling_price</th>\n",
       "      <th>other_discount</th>\n",
       "      <th>coupon_discount</th>\n",
       "    </tr>\n",
       "  </thead>\n",
       "  <tbody>\n",
       "    <tr>\n",
       "      <th>count</th>\n",
       "      <td>1321650.00</td>\n",
       "      <td>1321650.00</td>\n",
       "      <td>1321650.00</td>\n",
       "      <td>1321650.00</td>\n",
       "    </tr>\n",
       "    <tr>\n",
       "      <th>mean</th>\n",
       "      <td>130.89</td>\n",
       "      <td>114.57</td>\n",
       "      <td>-17.74</td>\n",
       "      <td>-0.57</td>\n",
       "    </tr>\n",
       "    <tr>\n",
       "      <th>std</th>\n",
       "      <td>1312.46</td>\n",
       "      <td>152.73</td>\n",
       "      <td>37.82</td>\n",
       "      <td>7.01</td>\n",
       "    </tr>\n",
       "    <tr>\n",
       "      <th>min</th>\n",
       "      <td>1.00</td>\n",
       "      <td>0.36</td>\n",
       "      <td>-3120.31</td>\n",
       "      <td>-1992.23</td>\n",
       "    </tr>\n",
       "    <tr>\n",
       "      <th>25%</th>\n",
       "      <td>1.00</td>\n",
       "      <td>49.51</td>\n",
       "      <td>-23.15</td>\n",
       "      <td>0.00</td>\n",
       "    </tr>\n",
       "    <tr>\n",
       "      <th>50%</th>\n",
       "      <td>1.00</td>\n",
       "      <td>78.01</td>\n",
       "      <td>-1.78</td>\n",
       "      <td>0.00</td>\n",
       "    </tr>\n",
       "    <tr>\n",
       "      <th>75%</th>\n",
       "      <td>1.00</td>\n",
       "      <td>124.31</td>\n",
       "      <td>0.00</td>\n",
       "      <td>0.00</td>\n",
       "    </tr>\n",
       "    <tr>\n",
       "      <th>max</th>\n",
       "      <td>89638.00</td>\n",
       "      <td>17809.64</td>\n",
       "      <td>0.00</td>\n",
       "      <td>0.00</td>\n",
       "    </tr>\n",
       "  </tbody>\n",
       "</table>\n",
       "</div>"
      ],
      "text/plain": [
       "         quantity  selling_price  other_discount  coupon_discount\n",
       "count  1321650.00     1321650.00      1321650.00       1321650.00\n",
       "mean       130.89         114.57          -17.74            -0.57\n",
       "std       1312.46         152.73           37.82             7.01\n",
       "min          1.00           0.36        -3120.31         -1992.23\n",
       "25%          1.00          49.51          -23.15             0.00\n",
       "50%          1.00          78.01           -1.78             0.00\n",
       "75%          1.00         124.31            0.00             0.00\n",
       "max      89638.00       17809.64            0.00             0.00"
      ]
     },
     "execution_count": 96,
     "metadata": {},
     "output_type": "execute_result"
    }
   ],
   "source": [
    "#get a summary of numerical features of the dataset\n",
    "np.round(customer_transaction_data.describe(include=[\"int64\", \"float64\"]), 2)"
   ]
  },
  {
   "cell_type": "code",
   "execution_count": 97,
   "id": "4deecb5c-0644-4b55-8ced-6674ff23396c",
   "metadata": {},
   "outputs": [
    {
     "data": {
      "text/html": [
       "<div>\n",
       "<style scoped>\n",
       "    .dataframe tbody tr th:only-of-type {\n",
       "        vertical-align: middle;\n",
       "    }\n",
       "\n",
       "    .dataframe tbody tr th {\n",
       "        vertical-align: top;\n",
       "    }\n",
       "\n",
       "    .dataframe thead th {\n",
       "        text-align: right;\n",
       "    }\n",
       "</style>\n",
       "<table border=\"1\" class=\"dataframe\">\n",
       "  <thead>\n",
       "    <tr style=\"text-align: right;\">\n",
       "      <th></th>\n",
       "      <th>customer_id</th>\n",
       "      <th>item_id</th>\n",
       "    </tr>\n",
       "  </thead>\n",
       "  <tbody>\n",
       "    <tr>\n",
       "      <th>count</th>\n",
       "      <td>1321650</td>\n",
       "      <td>1321650</td>\n",
       "    </tr>\n",
       "    <tr>\n",
       "      <th>unique</th>\n",
       "      <td>1582</td>\n",
       "      <td>74063</td>\n",
       "    </tr>\n",
       "    <tr>\n",
       "      <th>top</th>\n",
       "      <td>1555</td>\n",
       "      <td>49009</td>\n",
       "    </tr>\n",
       "    <tr>\n",
       "      <th>freq</th>\n",
       "      <td>4508</td>\n",
       "      <td>13536</td>\n",
       "    </tr>\n",
       "  </tbody>\n",
       "</table>\n",
       "</div>"
      ],
      "text/plain": [
       "        customer_id  item_id\n",
       "count       1321650  1321650\n",
       "unique         1582    74063\n",
       "top            1555    49009\n",
       "freq           4508    13536"
      ]
     },
     "execution_count": 97,
     "metadata": {},
     "output_type": "execute_result"
    }
   ],
   "source": [
    "# statistical summary of categorical columns\n",
    "customer_transaction_data.describe(include=\"category\")"
   ]
  },
  {
   "cell_type": "markdown",
   "id": "2c207c98-c499-4909-892b-cce78d578a0f",
   "metadata": {},
   "source": [
    "From the above data, we observe:\n",
    "1. For most of the transactions, quantity is 1 , but few transactions have taken place in large quantity , suggesting bulk purchase.\n",
    "2. Most of the transactions have taken place without applying any coupon_discount.\n",
    "3. For the other_discount, median is -1.78 , also as 75 percentile is 0, shows most of the transactions have taken place without applying any other_discount.\n",
    "4. There are 1582 unique customer ids who looks for buying 74063 unique items."
   ]
  },
  {
   "cell_type": "markdown",
   "id": "85bec96c-1d07-46de-9ef5-87d9c1d8bdbf",
   "metadata": {},
   "source": [
    "Analysis of item_data"
   ]
  },
  {
   "cell_type": "code",
   "execution_count": 100,
   "id": "247b7106-cea4-442f-a75e-58abbc7d0f51",
   "metadata": {},
   "outputs": [
    {
     "data": {
      "text/html": [
       "<div>\n",
       "<style scoped>\n",
       "    .dataframe tbody tr th:only-of-type {\n",
       "        vertical-align: middle;\n",
       "    }\n",
       "\n",
       "    .dataframe tbody tr th {\n",
       "        vertical-align: top;\n",
       "    }\n",
       "\n",
       "    .dataframe thead th {\n",
       "        text-align: right;\n",
       "    }\n",
       "</style>\n",
       "<table border=\"1\" class=\"dataframe\">\n",
       "  <thead>\n",
       "    <tr style=\"text-align: right;\">\n",
       "      <th></th>\n",
       "      <th>item_id</th>\n",
       "      <th>brand</th>\n",
       "      <th>brand_type</th>\n",
       "      <th>category</th>\n",
       "    </tr>\n",
       "  </thead>\n",
       "  <tbody>\n",
       "    <tr>\n",
       "      <th>5606</th>\n",
       "      <td>5607</td>\n",
       "      <td>848</td>\n",
       "      <td>Established</td>\n",
       "      <td>Pharmaceutical</td>\n",
       "    </tr>\n",
       "    <tr>\n",
       "      <th>29824</th>\n",
       "      <td>29825</td>\n",
       "      <td>46</td>\n",
       "      <td>Established</td>\n",
       "      <td>Pharmaceutical</td>\n",
       "    </tr>\n",
       "    <tr>\n",
       "      <th>671</th>\n",
       "      <td>672</td>\n",
       "      <td>946</td>\n",
       "      <td>Established</td>\n",
       "      <td>Grocery</td>\n",
       "    </tr>\n",
       "    <tr>\n",
       "      <th>10975</th>\n",
       "      <td>10976</td>\n",
       "      <td>4807</td>\n",
       "      <td>Established</td>\n",
       "      <td>Pharmaceutical</td>\n",
       "    </tr>\n",
       "    <tr>\n",
       "      <th>27448</th>\n",
       "      <td>27449</td>\n",
       "      <td>2358</td>\n",
       "      <td>Established</td>\n",
       "      <td>Alcohol</td>\n",
       "    </tr>\n",
       "    <tr>\n",
       "      <th>63522</th>\n",
       "      <td>63523</td>\n",
       "      <td>5302</td>\n",
       "      <td>Established</td>\n",
       "      <td>Natural Products</td>\n",
       "    </tr>\n",
       "    <tr>\n",
       "      <th>27710</th>\n",
       "      <td>27711</td>\n",
       "      <td>1124</td>\n",
       "      <td>Established</td>\n",
       "      <td>Grocery</td>\n",
       "    </tr>\n",
       "    <tr>\n",
       "      <th>16691</th>\n",
       "      <td>16692</td>\n",
       "      <td>4972</td>\n",
       "      <td>Established</td>\n",
       "      <td>Dairy, Juices &amp; Snacks</td>\n",
       "    </tr>\n",
       "    <tr>\n",
       "      <th>42807</th>\n",
       "      <td>42808</td>\n",
       "      <td>56</td>\n",
       "      <td>Local</td>\n",
       "      <td>Grocery</td>\n",
       "    </tr>\n",
       "    <tr>\n",
       "      <th>27648</th>\n",
       "      <td>27649</td>\n",
       "      <td>676</td>\n",
       "      <td>Established</td>\n",
       "      <td>Grocery</td>\n",
       "    </tr>\n",
       "  </tbody>\n",
       "</table>\n",
       "</div>"
      ],
      "text/plain": [
       "       item_id  brand   brand_type                category\n",
       "5606      5607    848  Established          Pharmaceutical\n",
       "29824    29825     46  Established          Pharmaceutical\n",
       "671        672    946  Established                 Grocery\n",
       "10975    10976   4807  Established          Pharmaceutical\n",
       "27448    27449   2358  Established                 Alcohol\n",
       "63522    63523   5302  Established        Natural Products\n",
       "27710    27711   1124  Established                 Grocery\n",
       "16691    16692   4972  Established  Dairy, Juices & Snacks\n",
       "42807    42808     56        Local                 Grocery\n",
       "27648    27649    676  Established                 Grocery"
      ]
     },
     "execution_count": 100,
     "metadata": {},
     "output_type": "execute_result"
    }
   ],
   "source": [
    "#considering item_data dataframe\n",
    "item_data.sample(10)"
   ]
  },
  {
   "cell_type": "code",
   "execution_count": 101,
   "id": "e6e4aad5-781e-49b8-8a6c-3edecb63ef58",
   "metadata": {},
   "outputs": [
    {
     "data": {
      "text/plain": [
       "(74066, 4)"
      ]
     },
     "execution_count": 101,
     "metadata": {},
     "output_type": "execute_result"
    }
   ],
   "source": [
    "item_data.shape"
   ]
  },
  {
   "cell_type": "code",
   "execution_count": 102,
   "id": "39bde32f-14b1-4c78-a569-0d243cf74873",
   "metadata": {},
   "outputs": [
    {
     "data": {
      "text/plain": [
       "item_id        int64\n",
       "brand          int64\n",
       "brand_type    object\n",
       "category      object\n",
       "dtype: object"
      ]
     },
     "execution_count": 102,
     "metadata": {},
     "output_type": "execute_result"
    }
   ],
   "source": [
    "item_data.dtypes"
   ]
  },
  {
   "cell_type": "markdown",
   "id": "79ebee43-1da4-4199-83af-dcd2510be787",
   "metadata": {},
   "source": [
    "item_id should be of type category,\n",
    "brand represents unique id for item brand, it should be of type category\n",
    "brand_type and category should be of type category"
   ]
  },
  {
   "cell_type": "code",
   "execution_count": 104,
   "id": "ec786b53-054b-4a50-8ad9-0134b5b3cd78",
   "metadata": {},
   "outputs": [],
   "source": [
    "item_data['item_id'] = item_data['item_id'].astype('category')\n",
    "item_data['brand'] = item_data['brand'].astype('category')\n",
    "item_data['brand_type'] = item_data['brand_type'].astype('category')\n",
    "item_data['category'] = item_data['category'].astype('category')\n"
   ]
  },
  {
   "cell_type": "code",
   "execution_count": 105,
   "id": "0aa99f78-9754-4e6e-8be7-21ef205b0faa",
   "metadata": {},
   "outputs": [
    {
     "data": {
      "text/plain": [
       "item_id       category\n",
       "brand         category\n",
       "brand_type    category\n",
       "category      category\n",
       "dtype: object"
      ]
     },
     "execution_count": 105,
     "metadata": {},
     "output_type": "execute_result"
    }
   ],
   "source": [
    "item_data.dtypes"
   ]
  },
  {
   "cell_type": "code",
   "execution_count": 106,
   "id": "2d4bfd41-afa0-455c-9e8a-4e1efabc22ba",
   "metadata": {},
   "outputs": [
    {
     "data": {
      "text/plain": [
       "0"
      ]
     },
     "execution_count": 106,
     "metadata": {},
     "output_type": "execute_result"
    }
   ],
   "source": [
    "#checking for duplicate rows\n",
    "item_data.duplicated().sum()"
   ]
  },
  {
   "cell_type": "code",
   "execution_count": 107,
   "id": "6a60198a-cdf1-4bd9-a5f1-b919877a3ec3",
   "metadata": {},
   "outputs": [
    {
     "data": {
      "text/html": [
       "<div>\n",
       "<style scoped>\n",
       "    .dataframe tbody tr th:only-of-type {\n",
       "        vertical-align: middle;\n",
       "    }\n",
       "\n",
       "    .dataframe tbody tr th {\n",
       "        vertical-align: top;\n",
       "    }\n",
       "\n",
       "    .dataframe thead th {\n",
       "        text-align: right;\n",
       "    }\n",
       "</style>\n",
       "<table border=\"1\" class=\"dataframe\">\n",
       "  <thead>\n",
       "    <tr style=\"text-align: right;\">\n",
       "      <th></th>\n",
       "      <th>item_id</th>\n",
       "      <th>brand</th>\n",
       "      <th>brand_type</th>\n",
       "      <th>category</th>\n",
       "    </tr>\n",
       "  </thead>\n",
       "  <tbody>\n",
       "    <tr>\n",
       "      <th>count</th>\n",
       "      <td>74066</td>\n",
       "      <td>74066</td>\n",
       "      <td>74066</td>\n",
       "      <td>74066</td>\n",
       "    </tr>\n",
       "    <tr>\n",
       "      <th>unique</th>\n",
       "      <td>74066</td>\n",
       "      <td>5528</td>\n",
       "      <td>2</td>\n",
       "      <td>19</td>\n",
       "    </tr>\n",
       "    <tr>\n",
       "      <th>top</th>\n",
       "      <td>1</td>\n",
       "      <td>56</td>\n",
       "      <td>Established</td>\n",
       "      <td>Grocery</td>\n",
       "    </tr>\n",
       "    <tr>\n",
       "      <th>freq</th>\n",
       "      <td>1</td>\n",
       "      <td>10480</td>\n",
       "      <td>62842</td>\n",
       "      <td>32448</td>\n",
       "    </tr>\n",
       "  </tbody>\n",
       "</table>\n",
       "</div>"
      ],
      "text/plain": [
       "        item_id  brand   brand_type category\n",
       "count     74066  74066        74066    74066\n",
       "unique    74066   5528            2       19\n",
       "top           1     56  Established  Grocery\n",
       "freq          1  10480        62842    32448"
      ]
     },
     "execution_count": 107,
     "metadata": {},
     "output_type": "execute_result"
    }
   ],
   "source": [
    "# statistical summary of categorical columns\n",
    "item_data.describe(include=\"category\")"
   ]
  },
  {
   "cell_type": "markdown",
   "id": "d647ef0c-48ce-4645-af2b-1429f7437686",
   "metadata": {},
   "source": [
    "From the above data, we observe:\n",
    "1. There are no null values in any column in item_data.\n",
    "2. There are 74066 unique ids corresponding to each item_id.\n",
    "3. brand_type contains 2 different categories but people purchase more from an established brand.\n",
    "4. From 19 diferent categories of items, grocery is most common."
   ]
  },
  {
   "cell_type": "markdown",
   "id": "44b32384-bd5c-47cd-840e-f6ed8fa57a23",
   "metadata": {},
   "source": [
    "Merging dataframes"
   ]
  },
  {
   "cell_type": "markdown",
   "id": "436d0cee-d05b-4dca-b5ed-e16872577731",
   "metadata": {},
   "source": [
    "Merging item_data with coupon_item_mapping"
   ]
  },
  {
   "cell_type": "code",
   "execution_count": 111,
   "id": "d566be13-28ff-473f-bac7-ccacad6e642c",
   "metadata": {},
   "outputs": [],
   "source": [
    "#creating sets for item_id for both the item_data and coupon_item_mapping dataframe\n",
    "item_data_set = set(item_data.item_id.values)\n",
    "coupon_item_mapping_set = set(coupon_item_mapping.item_id.values)"
   ]
  },
  {
   "cell_type": "code",
   "execution_count": 112,
   "id": "a827717b-2eae-4f2f-8bc7-f3574f891ee0",
   "metadata": {},
   "outputs": [
    {
     "data": {
      "text/plain": [
       "set()"
      ]
     },
     "execution_count": 112,
     "metadata": {},
     "output_type": "execute_result"
    }
   ],
   "source": [
    "#finding the coupon_id not in item_data dataframe\n",
    "coupon_item_mapping_set - coupon_item_mapping_set.intersection(item_data_set)"
   ]
  },
  {
   "cell_type": "markdown",
   "id": "a3b87470-9ad6-4659-8ef0-6c1a3b0dbe31",
   "metadata": {},
   "source": [
    "All the item_id which are present in coupon_item_mapping and item_data"
   ]
  },
  {
   "cell_type": "code",
   "execution_count": 114,
   "id": "95c3e26b-4b0b-4ec3-afc1-9fa7fb28f74a",
   "metadata": {},
   "outputs": [
    {
     "data": {
      "text/html": [
       "<div>\n",
       "<style scoped>\n",
       "    .dataframe tbody tr th:only-of-type {\n",
       "        vertical-align: middle;\n",
       "    }\n",
       "\n",
       "    .dataframe tbody tr th {\n",
       "        vertical-align: top;\n",
       "    }\n",
       "\n",
       "    .dataframe thead th {\n",
       "        text-align: right;\n",
       "    }\n",
       "</style>\n",
       "<table border=\"1\" class=\"dataframe\">\n",
       "  <thead>\n",
       "    <tr style=\"text-align: right;\">\n",
       "      <th></th>\n",
       "      <th>coupon_id</th>\n",
       "      <th>item_id</th>\n",
       "      <th>brand</th>\n",
       "      <th>brand_type</th>\n",
       "      <th>category</th>\n",
       "    </tr>\n",
       "  </thead>\n",
       "  <tbody>\n",
       "    <tr>\n",
       "      <th>0</th>\n",
       "      <td>105</td>\n",
       "      <td>37</td>\n",
       "      <td>56</td>\n",
       "      <td>Local</td>\n",
       "      <td>Grocery</td>\n",
       "    </tr>\n",
       "    <tr>\n",
       "      <th>1</th>\n",
       "      <td>107</td>\n",
       "      <td>75</td>\n",
       "      <td>56</td>\n",
       "      <td>Local</td>\n",
       "      <td>Grocery</td>\n",
       "    </tr>\n",
       "    <tr>\n",
       "      <th>2</th>\n",
       "      <td>494</td>\n",
       "      <td>76</td>\n",
       "      <td>209</td>\n",
       "      <td>Established</td>\n",
       "      <td>Grocery</td>\n",
       "    </tr>\n",
       "    <tr>\n",
       "      <th>3</th>\n",
       "      <td>522</td>\n",
       "      <td>77</td>\n",
       "      <td>278</td>\n",
       "      <td>Established</td>\n",
       "      <td>Grocery</td>\n",
       "    </tr>\n",
       "    <tr>\n",
       "      <th>4</th>\n",
       "      <td>518</td>\n",
       "      <td>77</td>\n",
       "      <td>278</td>\n",
       "      <td>Established</td>\n",
       "      <td>Grocery</td>\n",
       "    </tr>\n",
       "    <tr>\n",
       "      <th>...</th>\n",
       "      <td>...</td>\n",
       "      <td>...</td>\n",
       "      <td>...</td>\n",
       "      <td>...</td>\n",
       "      <td>...</td>\n",
       "    </tr>\n",
       "    <tr>\n",
       "      <th>92658</th>\n",
       "      <td>32</td>\n",
       "      <td>69268</td>\n",
       "      <td>686</td>\n",
       "      <td>Established</td>\n",
       "      <td>Pharmaceutical</td>\n",
       "    </tr>\n",
       "    <tr>\n",
       "      <th>92659</th>\n",
       "      <td>32</td>\n",
       "      <td>68502</td>\n",
       "      <td>1009</td>\n",
       "      <td>Established</td>\n",
       "      <td>Pharmaceutical</td>\n",
       "    </tr>\n",
       "    <tr>\n",
       "      <th>92660</th>\n",
       "      <td>32</td>\n",
       "      <td>68612</td>\n",
       "      <td>1104</td>\n",
       "      <td>Established</td>\n",
       "      <td>Pharmaceutical</td>\n",
       "    </tr>\n",
       "    <tr>\n",
       "      <th>92661</th>\n",
       "      <td>33</td>\n",
       "      <td>71390</td>\n",
       "      <td>4196</td>\n",
       "      <td>Established</td>\n",
       "      <td>Meat</td>\n",
       "    </tr>\n",
       "    <tr>\n",
       "      <th>92662</th>\n",
       "      <td>31</td>\n",
       "      <td>70030</td>\n",
       "      <td>4477</td>\n",
       "      <td>Established</td>\n",
       "      <td>Grocery</td>\n",
       "    </tr>\n",
       "  </tbody>\n",
       "</table>\n",
       "<p>92663 rows × 5 columns</p>\n",
       "</div>"
      ],
      "text/plain": [
       "      coupon_id  item_id brand   brand_type        category\n",
       "0           105       37    56        Local         Grocery\n",
       "1           107       75    56        Local         Grocery\n",
       "2           494       76   209  Established         Grocery\n",
       "3           522       77   278  Established         Grocery\n",
       "4           518       77   278  Established         Grocery\n",
       "...         ...      ...   ...          ...             ...\n",
       "92658        32    69268   686  Established  Pharmaceutical\n",
       "92659        32    68502  1009  Established  Pharmaceutical\n",
       "92660        32    68612  1104  Established  Pharmaceutical\n",
       "92661        33    71390  4196  Established            Meat\n",
       "92662        31    70030  4477  Established         Grocery\n",
       "\n",
       "[92663 rows x 5 columns]"
      ]
     },
     "execution_count": 114,
     "metadata": {},
     "output_type": "execute_result"
    }
   ],
   "source": [
    "#merging item_data with coupon_item_mapping\n",
    "item_coupon_merged = pd.merge(coupon_item_mapping,item_data, on='item_id', how='left')\n",
    "item_coupon_merged"
   ]
  },
  {
   "cell_type": "markdown",
   "id": "8cc17f3c-2a34-46b1-ad7a-4c1964529ad3",
   "metadata": {},
   "source": [
    "Merging item_coupon_merged with train and test data"
   ]
  },
  {
   "cell_type": "code",
   "execution_count": 116,
   "id": "efbc219c-9323-406e-9719-ad4047aaa0b3",
   "metadata": {},
   "outputs": [],
   "source": [
    "train = pd.merge(train,item_coupon_merged, on='coupon_id', how='left')\n",
    "test = pd.merge(test,item_coupon_merged, on='coupon_id', how='left')"
   ]
  },
  {
   "cell_type": "code",
   "execution_count": 117,
   "id": "cfe0bdc5-e592-4b43-9633-219a50be948c",
   "metadata": {},
   "outputs": [
    {
     "data": {
      "text/html": [
       "<div>\n",
       "<style scoped>\n",
       "    .dataframe tbody tr th:only-of-type {\n",
       "        vertical-align: middle;\n",
       "    }\n",
       "\n",
       "    .dataframe tbody tr th {\n",
       "        vertical-align: top;\n",
       "    }\n",
       "\n",
       "    .dataframe thead th {\n",
       "        text-align: right;\n",
       "    }\n",
       "</style>\n",
       "<table border=\"1\" class=\"dataframe\">\n",
       "  <thead>\n",
       "    <tr style=\"text-align: right;\">\n",
       "      <th></th>\n",
       "      <th>id</th>\n",
       "      <th>campaign_id</th>\n",
       "      <th>coupon_id</th>\n",
       "      <th>customer_id</th>\n",
       "      <th>redemption_status</th>\n",
       "      <th>campaign_type</th>\n",
       "      <th>start_date</th>\n",
       "      <th>end_date</th>\n",
       "      <th>campaign_duration</th>\n",
       "      <th>item_id</th>\n",
       "      <th>brand</th>\n",
       "      <th>brand_type</th>\n",
       "      <th>category</th>\n",
       "    </tr>\n",
       "  </thead>\n",
       "  <tbody>\n",
       "    <tr>\n",
       "      <th>0</th>\n",
       "      <td>1</td>\n",
       "      <td>13</td>\n",
       "      <td>27</td>\n",
       "      <td>1053</td>\n",
       "      <td>0</td>\n",
       "      <td>X</td>\n",
       "      <td>2013-05-19</td>\n",
       "      <td>2013-07-05</td>\n",
       "      <td>47</td>\n",
       "      <td>24775</td>\n",
       "      <td>1636</td>\n",
       "      <td>Established</td>\n",
       "      <td>Grocery</td>\n",
       "    </tr>\n",
       "    <tr>\n",
       "      <th>1</th>\n",
       "      <td>1</td>\n",
       "      <td>13</td>\n",
       "      <td>27</td>\n",
       "      <td>1053</td>\n",
       "      <td>0</td>\n",
       "      <td>X</td>\n",
       "      <td>2013-05-19</td>\n",
       "      <td>2013-07-05</td>\n",
       "      <td>47</td>\n",
       "      <td>14958</td>\n",
       "      <td>1636</td>\n",
       "      <td>Established</td>\n",
       "      <td>Grocery</td>\n",
       "    </tr>\n",
       "    <tr>\n",
       "      <th>2</th>\n",
       "      <td>1</td>\n",
       "      <td>13</td>\n",
       "      <td>27</td>\n",
       "      <td>1053</td>\n",
       "      <td>0</td>\n",
       "      <td>X</td>\n",
       "      <td>2013-05-19</td>\n",
       "      <td>2013-07-05</td>\n",
       "      <td>47</td>\n",
       "      <td>40431</td>\n",
       "      <td>1636</td>\n",
       "      <td>Established</td>\n",
       "      <td>Grocery</td>\n",
       "    </tr>\n",
       "    <tr>\n",
       "      <th>3</th>\n",
       "      <td>1</td>\n",
       "      <td>13</td>\n",
       "      <td>27</td>\n",
       "      <td>1053</td>\n",
       "      <td>0</td>\n",
       "      <td>X</td>\n",
       "      <td>2013-05-19</td>\n",
       "      <td>2013-07-05</td>\n",
       "      <td>47</td>\n",
       "      <td>20749</td>\n",
       "      <td>1636</td>\n",
       "      <td>Established</td>\n",
       "      <td>Grocery</td>\n",
       "    </tr>\n",
       "    <tr>\n",
       "      <th>4</th>\n",
       "      <td>1</td>\n",
       "      <td>13</td>\n",
       "      <td>27</td>\n",
       "      <td>1053</td>\n",
       "      <td>0</td>\n",
       "      <td>X</td>\n",
       "      <td>2013-05-19</td>\n",
       "      <td>2013-07-05</td>\n",
       "      <td>47</td>\n",
       "      <td>56860</td>\n",
       "      <td>1636</td>\n",
       "      <td>Established</td>\n",
       "      <td>Grocery</td>\n",
       "    </tr>\n",
       "    <tr>\n",
       "      <th>...</th>\n",
       "      <td>...</td>\n",
       "      <td>...</td>\n",
       "      <td>...</td>\n",
       "      <td>...</td>\n",
       "      <td>...</td>\n",
       "      <td>...</td>\n",
       "      <td>...</td>\n",
       "      <td>...</td>\n",
       "      <td>...</td>\n",
       "      <td>...</td>\n",
       "      <td>...</td>\n",
       "      <td>...</td>\n",
       "      <td>...</td>\n",
       "    </tr>\n",
       "    <tr>\n",
       "      <th>6420689</th>\n",
       "      <td>128595</td>\n",
       "      <td>13</td>\n",
       "      <td>681</td>\n",
       "      <td>623</td>\n",
       "      <td>0</td>\n",
       "      <td>X</td>\n",
       "      <td>2013-05-19</td>\n",
       "      <td>2013-07-05</td>\n",
       "      <td>47</td>\n",
       "      <td>16981</td>\n",
       "      <td>686</td>\n",
       "      <td>Established</td>\n",
       "      <td>Grocery</td>\n",
       "    </tr>\n",
       "    <tr>\n",
       "      <th>6420690</th>\n",
       "      <td>128595</td>\n",
       "      <td>13</td>\n",
       "      <td>681</td>\n",
       "      <td>623</td>\n",
       "      <td>0</td>\n",
       "      <td>X</td>\n",
       "      <td>2013-05-19</td>\n",
       "      <td>2013-07-05</td>\n",
       "      <td>47</td>\n",
       "      <td>44676</td>\n",
       "      <td>686</td>\n",
       "      <td>Established</td>\n",
       "      <td>Grocery</td>\n",
       "    </tr>\n",
       "    <tr>\n",
       "      <th>6420691</th>\n",
       "      <td>128595</td>\n",
       "      <td>13</td>\n",
       "      <td>681</td>\n",
       "      <td>623</td>\n",
       "      <td>0</td>\n",
       "      <td>X</td>\n",
       "      <td>2013-05-19</td>\n",
       "      <td>2013-07-05</td>\n",
       "      <td>47</td>\n",
       "      <td>38641</td>\n",
       "      <td>686</td>\n",
       "      <td>Established</td>\n",
       "      <td>Grocery</td>\n",
       "    </tr>\n",
       "    <tr>\n",
       "      <th>6420692</th>\n",
       "      <td>128595</td>\n",
       "      <td>13</td>\n",
       "      <td>681</td>\n",
       "      <td>623</td>\n",
       "      <td>0</td>\n",
       "      <td>X</td>\n",
       "      <td>2013-05-19</td>\n",
       "      <td>2013-07-05</td>\n",
       "      <td>47</td>\n",
       "      <td>34285</td>\n",
       "      <td>686</td>\n",
       "      <td>Established</td>\n",
       "      <td>Grocery</td>\n",
       "    </tr>\n",
       "    <tr>\n",
       "      <th>6420693</th>\n",
       "      <td>128595</td>\n",
       "      <td>13</td>\n",
       "      <td>681</td>\n",
       "      <td>623</td>\n",
       "      <td>0</td>\n",
       "      <td>X</td>\n",
       "      <td>2013-05-19</td>\n",
       "      <td>2013-07-05</td>\n",
       "      <td>47</td>\n",
       "      <td>990</td>\n",
       "      <td>686</td>\n",
       "      <td>Established</td>\n",
       "      <td>Grocery</td>\n",
       "    </tr>\n",
       "  </tbody>\n",
       "</table>\n",
       "<p>6420694 rows × 13 columns</p>\n",
       "</div>"
      ],
      "text/plain": [
       "             id  campaign_id  coupon_id customer_id redemption_status  \\\n",
       "0             1           13         27        1053                 0   \n",
       "1             1           13         27        1053                 0   \n",
       "2             1           13         27        1053                 0   \n",
       "3             1           13         27        1053                 0   \n",
       "4             1           13         27        1053                 0   \n",
       "...         ...          ...        ...         ...               ...   \n",
       "6420689  128595           13        681         623                 0   \n",
       "6420690  128595           13        681         623                 0   \n",
       "6420691  128595           13        681         623                 0   \n",
       "6420692  128595           13        681         623                 0   \n",
       "6420693  128595           13        681         623                 0   \n",
       "\n",
       "        campaign_type start_date   end_date  campaign_duration  item_id brand  \\\n",
       "0                   X 2013-05-19 2013-07-05                 47    24775  1636   \n",
       "1                   X 2013-05-19 2013-07-05                 47    14958  1636   \n",
       "2                   X 2013-05-19 2013-07-05                 47    40431  1636   \n",
       "3                   X 2013-05-19 2013-07-05                 47    20749  1636   \n",
       "4                   X 2013-05-19 2013-07-05                 47    56860  1636   \n",
       "...               ...        ...        ...                ...      ...   ...   \n",
       "6420689             X 2013-05-19 2013-07-05                 47    16981   686   \n",
       "6420690             X 2013-05-19 2013-07-05                 47    44676   686   \n",
       "6420691             X 2013-05-19 2013-07-05                 47    38641   686   \n",
       "6420692             X 2013-05-19 2013-07-05                 47    34285   686   \n",
       "6420693             X 2013-05-19 2013-07-05                 47      990   686   \n",
       "\n",
       "          brand_type category  \n",
       "0        Established  Grocery  \n",
       "1        Established  Grocery  \n",
       "2        Established  Grocery  \n",
       "3        Established  Grocery  \n",
       "4        Established  Grocery  \n",
       "...              ...      ...  \n",
       "6420689  Established  Grocery  \n",
       "6420690  Established  Grocery  \n",
       "6420691  Established  Grocery  \n",
       "6420692  Established  Grocery  \n",
       "6420693  Established  Grocery  \n",
       "\n",
       "[6420694 rows x 13 columns]"
      ]
     },
     "execution_count": 117,
     "metadata": {},
     "output_type": "execute_result"
    }
   ],
   "source": [
    "train"
   ]
  },
  {
   "cell_type": "code",
   "execution_count": 118,
   "id": "c46c2afa-8e16-4ead-910a-13a3081c339a",
   "metadata": {},
   "outputs": [
    {
     "data": {
      "text/html": [
       "<div>\n",
       "<style scoped>\n",
       "    .dataframe tbody tr th:only-of-type {\n",
       "        vertical-align: middle;\n",
       "    }\n",
       "\n",
       "    .dataframe tbody tr th {\n",
       "        vertical-align: top;\n",
       "    }\n",
       "\n",
       "    .dataframe thead th {\n",
       "        text-align: right;\n",
       "    }\n",
       "</style>\n",
       "<table border=\"1\" class=\"dataframe\">\n",
       "  <thead>\n",
       "    <tr style=\"text-align: right;\">\n",
       "      <th></th>\n",
       "      <th>id</th>\n",
       "      <th>campaign_id</th>\n",
       "      <th>coupon_id</th>\n",
       "      <th>customer_id</th>\n",
       "      <th>campaign_type</th>\n",
       "      <th>start_date</th>\n",
       "      <th>end_date</th>\n",
       "      <th>campaign_duration</th>\n",
       "      <th>item_id</th>\n",
       "      <th>brand</th>\n",
       "      <th>brand_type</th>\n",
       "      <th>category</th>\n",
       "    </tr>\n",
       "  </thead>\n",
       "  <tbody>\n",
       "    <tr>\n",
       "      <th>0</th>\n",
       "      <td>3</td>\n",
       "      <td>22</td>\n",
       "      <td>869</td>\n",
       "      <td>967</td>\n",
       "      <td>X</td>\n",
       "      <td>2013-09-16</td>\n",
       "      <td>2013-10-18</td>\n",
       "      <td>32</td>\n",
       "      <td>1033</td>\n",
       "      <td>1075</td>\n",
       "      <td>Established</td>\n",
       "      <td>Grocery</td>\n",
       "    </tr>\n",
       "    <tr>\n",
       "      <th>1</th>\n",
       "      <td>3</td>\n",
       "      <td>22</td>\n",
       "      <td>869</td>\n",
       "      <td>967</td>\n",
       "      <td>X</td>\n",
       "      <td>2013-09-16</td>\n",
       "      <td>2013-10-18</td>\n",
       "      <td>32</td>\n",
       "      <td>1067</td>\n",
       "      <td>1075</td>\n",
       "      <td>Established</td>\n",
       "      <td>Grocery</td>\n",
       "    </tr>\n",
       "    <tr>\n",
       "      <th>2</th>\n",
       "      <td>3</td>\n",
       "      <td>22</td>\n",
       "      <td>869</td>\n",
       "      <td>967</td>\n",
       "      <td>X</td>\n",
       "      <td>2013-09-16</td>\n",
       "      <td>2013-10-18</td>\n",
       "      <td>32</td>\n",
       "      <td>1084</td>\n",
       "      <td>1075</td>\n",
       "      <td>Established</td>\n",
       "      <td>Grocery</td>\n",
       "    </tr>\n",
       "    <tr>\n",
       "      <th>3</th>\n",
       "      <td>3</td>\n",
       "      <td>22</td>\n",
       "      <td>869</td>\n",
       "      <td>967</td>\n",
       "      <td>X</td>\n",
       "      <td>2013-09-16</td>\n",
       "      <td>2013-10-18</td>\n",
       "      <td>32</td>\n",
       "      <td>1124</td>\n",
       "      <td>1075</td>\n",
       "      <td>Established</td>\n",
       "      <td>Grocery</td>\n",
       "    </tr>\n",
       "    <tr>\n",
       "      <th>4</th>\n",
       "      <td>3</td>\n",
       "      <td>22</td>\n",
       "      <td>869</td>\n",
       "      <td>967</td>\n",
       "      <td>X</td>\n",
       "      <td>2013-09-16</td>\n",
       "      <td>2013-10-18</td>\n",
       "      <td>32</td>\n",
       "      <td>1125</td>\n",
       "      <td>1075</td>\n",
       "      <td>Established</td>\n",
       "      <td>Grocery</td>\n",
       "    </tr>\n",
       "    <tr>\n",
       "      <th>...</th>\n",
       "      <td>...</td>\n",
       "      <td>...</td>\n",
       "      <td>...</td>\n",
       "      <td>...</td>\n",
       "      <td>...</td>\n",
       "      <td>...</td>\n",
       "      <td>...</td>\n",
       "      <td>...</td>\n",
       "      <td>...</td>\n",
       "      <td>...</td>\n",
       "      <td>...</td>\n",
       "      <td>...</td>\n",
       "    </tr>\n",
       "    <tr>\n",
       "      <th>5421796</th>\n",
       "      <td>128594</td>\n",
       "      <td>18</td>\n",
       "      <td>988</td>\n",
       "      <td>851</td>\n",
       "      <td>X</td>\n",
       "      <td>2013-08-10</td>\n",
       "      <td>2013-10-04</td>\n",
       "      <td>55</td>\n",
       "      <td>53817</td>\n",
       "      <td>1342</td>\n",
       "      <td>Established</td>\n",
       "      <td>Pharmaceutical</td>\n",
       "    </tr>\n",
       "    <tr>\n",
       "      <th>5421797</th>\n",
       "      <td>128594</td>\n",
       "      <td>18</td>\n",
       "      <td>988</td>\n",
       "      <td>851</td>\n",
       "      <td>X</td>\n",
       "      <td>2013-08-10</td>\n",
       "      <td>2013-10-04</td>\n",
       "      <td>55</td>\n",
       "      <td>55314</td>\n",
       "      <td>1342</td>\n",
       "      <td>Established</td>\n",
       "      <td>Pharmaceutical</td>\n",
       "    </tr>\n",
       "    <tr>\n",
       "      <th>5421798</th>\n",
       "      <td>128594</td>\n",
       "      <td>18</td>\n",
       "      <td>988</td>\n",
       "      <td>851</td>\n",
       "      <td>X</td>\n",
       "      <td>2013-08-10</td>\n",
       "      <td>2013-10-04</td>\n",
       "      <td>55</td>\n",
       "      <td>20798</td>\n",
       "      <td>1342</td>\n",
       "      <td>Established</td>\n",
       "      <td>Pharmaceutical</td>\n",
       "    </tr>\n",
       "    <tr>\n",
       "      <th>5421799</th>\n",
       "      <td>128594</td>\n",
       "      <td>18</td>\n",
       "      <td>988</td>\n",
       "      <td>851</td>\n",
       "      <td>X</td>\n",
       "      <td>2013-08-10</td>\n",
       "      <td>2013-10-04</td>\n",
       "      <td>55</td>\n",
       "      <td>62761</td>\n",
       "      <td>1342</td>\n",
       "      <td>Established</td>\n",
       "      <td>Pharmaceutical</td>\n",
       "    </tr>\n",
       "    <tr>\n",
       "      <th>5421800</th>\n",
       "      <td>128594</td>\n",
       "      <td>18</td>\n",
       "      <td>988</td>\n",
       "      <td>851</td>\n",
       "      <td>X</td>\n",
       "      <td>2013-08-10</td>\n",
       "      <td>2013-10-04</td>\n",
       "      <td>55</td>\n",
       "      <td>62835</td>\n",
       "      <td>1342</td>\n",
       "      <td>Established</td>\n",
       "      <td>Pharmaceutical</td>\n",
       "    </tr>\n",
       "  </tbody>\n",
       "</table>\n",
       "<p>5421801 rows × 12 columns</p>\n",
       "</div>"
      ],
      "text/plain": [
       "             id  campaign_id  coupon_id customer_id campaign_type start_date  \\\n",
       "0             3           22        869         967             X 2013-09-16   \n",
       "1             3           22        869         967             X 2013-09-16   \n",
       "2             3           22        869         967             X 2013-09-16   \n",
       "3             3           22        869         967             X 2013-09-16   \n",
       "4             3           22        869         967             X 2013-09-16   \n",
       "...         ...          ...        ...         ...           ...        ...   \n",
       "5421796  128594           18        988         851             X 2013-08-10   \n",
       "5421797  128594           18        988         851             X 2013-08-10   \n",
       "5421798  128594           18        988         851             X 2013-08-10   \n",
       "5421799  128594           18        988         851             X 2013-08-10   \n",
       "5421800  128594           18        988         851             X 2013-08-10   \n",
       "\n",
       "          end_date  campaign_duration  item_id brand   brand_type  \\\n",
       "0       2013-10-18                 32     1033  1075  Established   \n",
       "1       2013-10-18                 32     1067  1075  Established   \n",
       "2       2013-10-18                 32     1084  1075  Established   \n",
       "3       2013-10-18                 32     1124  1075  Established   \n",
       "4       2013-10-18                 32     1125  1075  Established   \n",
       "...            ...                ...      ...   ...          ...   \n",
       "5421796 2013-10-04                 55    53817  1342  Established   \n",
       "5421797 2013-10-04                 55    55314  1342  Established   \n",
       "5421798 2013-10-04                 55    20798  1342  Established   \n",
       "5421799 2013-10-04                 55    62761  1342  Established   \n",
       "5421800 2013-10-04                 55    62835  1342  Established   \n",
       "\n",
       "               category  \n",
       "0               Grocery  \n",
       "1               Grocery  \n",
       "2               Grocery  \n",
       "3               Grocery  \n",
       "4               Grocery  \n",
       "...                 ...  \n",
       "5421796  Pharmaceutical  \n",
       "5421797  Pharmaceutical  \n",
       "5421798  Pharmaceutical  \n",
       "5421799  Pharmaceutical  \n",
       "5421800  Pharmaceutical  \n",
       "\n",
       "[5421801 rows x 12 columns]"
      ]
     },
     "execution_count": 118,
     "metadata": {},
     "output_type": "execute_result"
    }
   ],
   "source": [
    "test"
   ]
  },
  {
   "cell_type": "code",
   "execution_count": 119,
   "id": "f64051fe-8c9c-4fe3-8d57-639b3f55edfb",
   "metadata": {},
   "outputs": [],
   "source": [
    "#merging customer_item_demographics with train and test data\n",
    "train = pd.merge(train,customer_demographics, on='customer_id', how='left')\n",
    "test = pd.merge(test,customer_demographics, on='customer_id', how='left')"
   ]
  },
  {
   "cell_type": "code",
   "execution_count": 120,
   "id": "8ef7abd0-6c97-4b38-9894-6e92744485b9",
   "metadata": {},
   "outputs": [
    {
     "data": {
      "text/html": [
       "<div>\n",
       "<style scoped>\n",
       "    .dataframe tbody tr th:only-of-type {\n",
       "        vertical-align: middle;\n",
       "    }\n",
       "\n",
       "    .dataframe tbody tr th {\n",
       "        vertical-align: top;\n",
       "    }\n",
       "\n",
       "    .dataframe thead th {\n",
       "        text-align: right;\n",
       "    }\n",
       "</style>\n",
       "<table border=\"1\" class=\"dataframe\">\n",
       "  <thead>\n",
       "    <tr style=\"text-align: right;\">\n",
       "      <th></th>\n",
       "      <th>id</th>\n",
       "      <th>campaign_id</th>\n",
       "      <th>coupon_id</th>\n",
       "      <th>customer_id</th>\n",
       "      <th>redemption_status</th>\n",
       "      <th>campaign_type</th>\n",
       "      <th>start_date</th>\n",
       "      <th>end_date</th>\n",
       "      <th>campaign_duration</th>\n",
       "      <th>item_id</th>\n",
       "      <th>brand</th>\n",
       "      <th>brand_type</th>\n",
       "      <th>category</th>\n",
       "      <th>age_range</th>\n",
       "      <th>marital_status</th>\n",
       "      <th>rented</th>\n",
       "      <th>family_size</th>\n",
       "      <th>no_of_children</th>\n",
       "      <th>income_bracket</th>\n",
       "    </tr>\n",
       "  </thead>\n",
       "  <tbody>\n",
       "    <tr>\n",
       "      <th>0</th>\n",
       "      <td>1</td>\n",
       "      <td>13</td>\n",
       "      <td>27</td>\n",
       "      <td>1053</td>\n",
       "      <td>0</td>\n",
       "      <td>X</td>\n",
       "      <td>2013-05-19</td>\n",
       "      <td>2013-07-05</td>\n",
       "      <td>47</td>\n",
       "      <td>24775</td>\n",
       "      <td>1636</td>\n",
       "      <td>Established</td>\n",
       "      <td>Grocery</td>\n",
       "      <td>46-55</td>\n",
       "      <td>NaN</td>\n",
       "      <td>0</td>\n",
       "      <td>1</td>\n",
       "      <td>NaN</td>\n",
       "      <td>5</td>\n",
       "    </tr>\n",
       "    <tr>\n",
       "      <th>1</th>\n",
       "      <td>1</td>\n",
       "      <td>13</td>\n",
       "      <td>27</td>\n",
       "      <td>1053</td>\n",
       "      <td>0</td>\n",
       "      <td>X</td>\n",
       "      <td>2013-05-19</td>\n",
       "      <td>2013-07-05</td>\n",
       "      <td>47</td>\n",
       "      <td>14958</td>\n",
       "      <td>1636</td>\n",
       "      <td>Established</td>\n",
       "      <td>Grocery</td>\n",
       "      <td>46-55</td>\n",
       "      <td>NaN</td>\n",
       "      <td>0</td>\n",
       "      <td>1</td>\n",
       "      <td>NaN</td>\n",
       "      <td>5</td>\n",
       "    </tr>\n",
       "    <tr>\n",
       "      <th>2</th>\n",
       "      <td>1</td>\n",
       "      <td>13</td>\n",
       "      <td>27</td>\n",
       "      <td>1053</td>\n",
       "      <td>0</td>\n",
       "      <td>X</td>\n",
       "      <td>2013-05-19</td>\n",
       "      <td>2013-07-05</td>\n",
       "      <td>47</td>\n",
       "      <td>40431</td>\n",
       "      <td>1636</td>\n",
       "      <td>Established</td>\n",
       "      <td>Grocery</td>\n",
       "      <td>46-55</td>\n",
       "      <td>NaN</td>\n",
       "      <td>0</td>\n",
       "      <td>1</td>\n",
       "      <td>NaN</td>\n",
       "      <td>5</td>\n",
       "    </tr>\n",
       "    <tr>\n",
       "      <th>3</th>\n",
       "      <td>1</td>\n",
       "      <td>13</td>\n",
       "      <td>27</td>\n",
       "      <td>1053</td>\n",
       "      <td>0</td>\n",
       "      <td>X</td>\n",
       "      <td>2013-05-19</td>\n",
       "      <td>2013-07-05</td>\n",
       "      <td>47</td>\n",
       "      <td>20749</td>\n",
       "      <td>1636</td>\n",
       "      <td>Established</td>\n",
       "      <td>Grocery</td>\n",
       "      <td>46-55</td>\n",
       "      <td>NaN</td>\n",
       "      <td>0</td>\n",
       "      <td>1</td>\n",
       "      <td>NaN</td>\n",
       "      <td>5</td>\n",
       "    </tr>\n",
       "    <tr>\n",
       "      <th>4</th>\n",
       "      <td>1</td>\n",
       "      <td>13</td>\n",
       "      <td>27</td>\n",
       "      <td>1053</td>\n",
       "      <td>0</td>\n",
       "      <td>X</td>\n",
       "      <td>2013-05-19</td>\n",
       "      <td>2013-07-05</td>\n",
       "      <td>47</td>\n",
       "      <td>56860</td>\n",
       "      <td>1636</td>\n",
       "      <td>Established</td>\n",
       "      <td>Grocery</td>\n",
       "      <td>46-55</td>\n",
       "      <td>NaN</td>\n",
       "      <td>0</td>\n",
       "      <td>1</td>\n",
       "      <td>NaN</td>\n",
       "      <td>5</td>\n",
       "    </tr>\n",
       "  </tbody>\n",
       "</table>\n",
       "</div>"
      ],
      "text/plain": [
       "  id  campaign_id  coupon_id  customer_id redemption_status campaign_type  \\\n",
       "0  1           13         27         1053                 0             X   \n",
       "1  1           13         27         1053                 0             X   \n",
       "2  1           13         27         1053                 0             X   \n",
       "3  1           13         27         1053                 0             X   \n",
       "4  1           13         27         1053                 0             X   \n",
       "\n",
       "  start_date   end_date  campaign_duration  item_id brand   brand_type  \\\n",
       "0 2013-05-19 2013-07-05                 47    24775  1636  Established   \n",
       "1 2013-05-19 2013-07-05                 47    14958  1636  Established   \n",
       "2 2013-05-19 2013-07-05                 47    40431  1636  Established   \n",
       "3 2013-05-19 2013-07-05                 47    20749  1636  Established   \n",
       "4 2013-05-19 2013-07-05                 47    56860  1636  Established   \n",
       "\n",
       "  category age_range marital_status rented family_size no_of_children  \\\n",
       "0  Grocery     46-55            NaN      0           1            NaN   \n",
       "1  Grocery     46-55            NaN      0           1            NaN   \n",
       "2  Grocery     46-55            NaN      0           1            NaN   \n",
       "3  Grocery     46-55            NaN      0           1            NaN   \n",
       "4  Grocery     46-55            NaN      0           1            NaN   \n",
       "\n",
       "  income_bracket  \n",
       "0              5  \n",
       "1              5  \n",
       "2              5  \n",
       "3              5  \n",
       "4              5  "
      ]
     },
     "execution_count": 120,
     "metadata": {},
     "output_type": "execute_result"
    }
   ],
   "source": [
    "train.head()"
   ]
  },
  {
   "cell_type": "code",
   "execution_count": 121,
   "id": "9ac82bfd-cc31-4eac-8a9a-ce8bb55e993d",
   "metadata": {},
   "outputs": [
    {
     "data": {
      "text/plain": [
       "(6420694, 19)"
      ]
     },
     "execution_count": 121,
     "metadata": {},
     "output_type": "execute_result"
    }
   ],
   "source": [
    "train.shape"
   ]
  },
  {
   "cell_type": "code",
   "execution_count": 211,
   "id": "487e42c4-f70f-411c-b607-891ae3219efc",
   "metadata": {},
   "outputs": [
    {
     "data": {
      "text/plain": [
       "(5421801, 18)"
      ]
     },
     "execution_count": 211,
     "metadata": {},
     "output_type": "execute_result"
    }
   ],
   "source": [
    "test.shape"
   ]
  },
  {
   "cell_type": "code",
   "execution_count": null,
   "id": "fa8d08db-010c-43db-b912-52292ded93fa",
   "metadata": {},
   "outputs": [],
   "source": []
  }
 ],
 "metadata": {
  "kernelspec": {
   "display_name": "Python [conda env:base] *",
   "language": "python",
   "name": "conda-base-py"
  },
  "language_info": {
   "codemirror_mode": {
    "name": "ipython",
    "version": 3
   },
   "file_extension": ".py",
   "mimetype": "text/x-python",
   "name": "python",
   "nbconvert_exporter": "python",
   "pygments_lexer": "ipython3",
   "version": "3.12.7"
  }
 },
 "nbformat": 4,
 "nbformat_minor": 5
}
