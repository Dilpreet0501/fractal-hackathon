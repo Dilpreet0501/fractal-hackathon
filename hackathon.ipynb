{
 "cells": [
  {
   "cell_type": "code",
   "execution_count": 1,
   "id": "671addbe-05d7-4914-b4d8-763f886e740d",
   "metadata": {},
   "outputs": [],
   "source": [
    "#importing libraries\n",
    "import pandas as pd\n",
    "import numpy as np\n",
    "import matplotlib.pyplot as plt\n",
    "import seaborn as sns"
   ]
  },
  {
   "cell_type": "code",
   "execution_count": 2,
   "id": "01e0d82c-bd6e-40fa-8ec2-28d2e2af6af8",
   "metadata": {},
   "outputs": [],
   "source": [
    "# Loading datasets\n",
    "train = pd.read_csv('train.csv')\n",
    "campaign_data = pd.read_csv('campaign_data.csv')\n",
    "coupon_item_mapping = pd.read_csv('coupon_item_mapping.csv')\n",
    "customer_demographics = pd.read_csv('customer_demographics.csv')\n",
    "customer_transaction_data = pd.read_csv('customer_transaction_data.csv')\n",
    "item_data = pd.read_csv('item_data.csv')\n",
    "test = pd.read_csv('test.csv')"
   ]
  },
  {
   "cell_type": "markdown",
   "id": "34571191-4d45-4bd4-a761-3ab40aa36ec1",
   "metadata": {},
   "source": [
    "Performing Data Pre-Processing in each DataFrame"
   ]
  },
  {
   "cell_type": "code",
   "execution_count": 4,
   "id": "ee7b195c-34b2-4d30-9f28-6e596fe643c1",
   "metadata": {},
   "outputs": [
    {
     "data": {
      "text/html": [
       "<div>\n",
       "<style scoped>\n",
       "    .dataframe tbody tr th:only-of-type {\n",
       "        vertical-align: middle;\n",
       "    }\n",
       "\n",
       "    .dataframe tbody tr th {\n",
       "        vertical-align: top;\n",
       "    }\n",
       "\n",
       "    .dataframe thead th {\n",
       "        text-align: right;\n",
       "    }\n",
       "</style>\n",
       "<table border=\"1\" class=\"dataframe\">\n",
       "  <thead>\n",
       "    <tr style=\"text-align: right;\">\n",
       "      <th></th>\n",
       "      <th>id</th>\n",
       "      <th>campaign_id</th>\n",
       "      <th>coupon_id</th>\n",
       "      <th>customer_id</th>\n",
       "      <th>redemption_status</th>\n",
       "    </tr>\n",
       "  </thead>\n",
       "  <tbody>\n",
       "    <tr>\n",
       "      <th>50486</th>\n",
       "      <td>82787</td>\n",
       "      <td>30</td>\n",
       "      <td>325</td>\n",
       "      <td>580</td>\n",
       "      <td>0</td>\n",
       "    </tr>\n",
       "    <tr>\n",
       "      <th>64835</th>\n",
       "      <td>106420</td>\n",
       "      <td>8</td>\n",
       "      <td>1058</td>\n",
       "      <td>622</td>\n",
       "      <td>0</td>\n",
       "    </tr>\n",
       "    <tr>\n",
       "      <th>9667</th>\n",
       "      <td>15948</td>\n",
       "      <td>26</td>\n",
       "      <td>381</td>\n",
       "      <td>506</td>\n",
       "      <td>0</td>\n",
       "    </tr>\n",
       "    <tr>\n",
       "      <th>24367</th>\n",
       "      <td>39974</td>\n",
       "      <td>13</td>\n",
       "      <td>1059</td>\n",
       "      <td>1343</td>\n",
       "      <td>0</td>\n",
       "    </tr>\n",
       "    <tr>\n",
       "      <th>27779</th>\n",
       "      <td>45560</td>\n",
       "      <td>8</td>\n",
       "      <td>1049</td>\n",
       "      <td>1338</td>\n",
       "      <td>0</td>\n",
       "    </tr>\n",
       "    <tr>\n",
       "      <th>31125</th>\n",
       "      <td>51011</td>\n",
       "      <td>9</td>\n",
       "      <td>705</td>\n",
       "      <td>71</td>\n",
       "      <td>0</td>\n",
       "    </tr>\n",
       "    <tr>\n",
       "      <th>69309</th>\n",
       "      <td>113856</td>\n",
       "      <td>13</td>\n",
       "      <td>111</td>\n",
       "      <td>936</td>\n",
       "      <td>0</td>\n",
       "    </tr>\n",
       "    <tr>\n",
       "      <th>11272</th>\n",
       "      <td>18593</td>\n",
       "      <td>13</td>\n",
       "      <td>171</td>\n",
       "      <td>649</td>\n",
       "      <td>0</td>\n",
       "    </tr>\n",
       "    <tr>\n",
       "      <th>18451</th>\n",
       "      <td>30401</td>\n",
       "      <td>12</td>\n",
       "      <td>492</td>\n",
       "      <td>1418</td>\n",
       "      <td>0</td>\n",
       "    </tr>\n",
       "    <tr>\n",
       "      <th>4865</th>\n",
       "      <td>8154</td>\n",
       "      <td>13</td>\n",
       "      <td>22</td>\n",
       "      <td>1173</td>\n",
       "      <td>0</td>\n",
       "    </tr>\n",
       "  </tbody>\n",
       "</table>\n",
       "</div>"
      ],
      "text/plain": [
       "           id  campaign_id  coupon_id  customer_id  redemption_status\n",
       "50486   82787           30        325          580                  0\n",
       "64835  106420            8       1058          622                  0\n",
       "9667    15948           26        381          506                  0\n",
       "24367   39974           13       1059         1343                  0\n",
       "27779   45560            8       1049         1338                  0\n",
       "31125   51011            9        705           71                  0\n",
       "69309  113856           13        111          936                  0\n",
       "11272   18593           13        171          649                  0\n",
       "18451   30401           12        492         1418                  0\n",
       "4865     8154           13         22         1173                  0"
      ]
     },
     "execution_count": 4,
     "metadata": {},
     "output_type": "execute_result"
    }
   ],
   "source": [
    "#considering train dataframe\n",
    "train.sample(10)"
   ]
  },
  {
   "cell_type": "code",
   "execution_count": 5,
   "id": "c108416d-b85a-40a2-a8ea-2cc432fe1fc7",
   "metadata": {},
   "outputs": [
    {
     "data": {
      "text/plain": [
       "(78369, 5)"
      ]
     },
     "execution_count": 5,
     "metadata": {},
     "output_type": "execute_result"
    }
   ],
   "source": [
    "train.shape"
   ]
  },
  {
   "cell_type": "code",
   "execution_count": 6,
   "id": "ff74825e-c402-46c1-a7e9-25661b1e38fc",
   "metadata": {},
   "outputs": [
    {
     "data": {
      "text/plain": [
       "id                   int64\n",
       "campaign_id          int64\n",
       "coupon_id            int64\n",
       "customer_id          int64\n",
       "redemption_status    int64\n",
       "dtype: object"
      ]
     },
     "execution_count": 6,
     "metadata": {},
     "output_type": "execute_result"
    }
   ],
   "source": [
    "train.dtypes"
   ]
  },
  {
   "cell_type": "markdown",
   "id": "74d0a820-55ed-4817-980a-79bc1b24f956",
   "metadata": {},
   "source": [
    "All the ids should be of type category,\n",
    "\n",
    "redemption_status represents 2 categories : 0 for Coupon not redeemed, 1 - Coupon redeemed, it should be of type category"
   ]
  },
  {
   "cell_type": "code",
   "execution_count": 8,
   "id": "11cad13f-b2dd-4646-98fe-1469c48b8cf3",
   "metadata": {},
   "outputs": [],
   "source": [
    "train['campaign_id'] = train['campaign_id'].astype('category')\n",
    "train['coupon_id'] = train['coupon_id'].astype('category')\n",
    "train['customer_id'] = train['customer_id'].astype('category')\n",
    "train['id'] = train['id'].astype('category')\n",
    "train['redemption_status'] = train['redemption_status'].astype('category')"
   ]
  },
  {
   "cell_type": "code",
   "execution_count": 9,
   "id": "dd5992f2-7e5a-488b-85dd-b7f89d5a8444",
   "metadata": {},
   "outputs": [
    {
     "data": {
      "text/plain": [
       "id                   category\n",
       "campaign_id          category\n",
       "coupon_id            category\n",
       "customer_id          category\n",
       "redemption_status    category\n",
       "dtype: object"
      ]
     },
     "execution_count": 9,
     "metadata": {},
     "output_type": "execute_result"
    }
   ],
   "source": [
    "#to verify the change\n",
    "train.dtypes"
   ]
  },
  {
   "cell_type": "code",
   "execution_count": 10,
   "id": "ce1792e4-d80c-41ba-a338-b64bfdf73190",
   "metadata": {},
   "outputs": [
    {
     "data": {
      "text/plain": [
       "id                   0\n",
       "campaign_id          0\n",
       "coupon_id            0\n",
       "customer_id          0\n",
       "redemption_status    0\n",
       "dtype: int64"
      ]
     },
     "execution_count": 10,
     "metadata": {},
     "output_type": "execute_result"
    }
   ],
   "source": [
    "# checking for missing values\n",
    "train.isnull().sum()"
   ]
  },
  {
   "cell_type": "markdown",
   "id": "8cddc1ba-4c2b-498b-8769-10eef11eacc3",
   "metadata": {},
   "source": [
    "There are no missing values in the train dataframe"
   ]
  },
  {
   "cell_type": "code",
   "execution_count": 12,
   "id": "2256e97a-794a-4a2b-b55b-e7bb07ac8203",
   "metadata": {},
   "outputs": [
    {
     "data": {
      "text/plain": [
       "0"
      ]
     },
     "execution_count": 12,
     "metadata": {},
     "output_type": "execute_result"
    }
   ],
   "source": [
    "#checking for duplicated rows\n",
    "train.duplicated().sum()"
   ]
  },
  {
   "cell_type": "markdown",
   "id": "a8260e2e-1b69-463f-8f8f-69b49a924658",
   "metadata": {},
   "source": [
    "There are no duplicate rows in the train dataframe"
   ]
  },
  {
   "cell_type": "code",
   "execution_count": 14,
   "id": "c2bcb76a-e65e-43f0-a34c-5a651357043f",
   "metadata": {},
   "outputs": [
    {
     "data": {
      "text/html": [
       "<div>\n",
       "<style scoped>\n",
       "    .dataframe tbody tr th:only-of-type {\n",
       "        vertical-align: middle;\n",
       "    }\n",
       "\n",
       "    .dataframe tbody tr th {\n",
       "        vertical-align: top;\n",
       "    }\n",
       "\n",
       "    .dataframe thead th {\n",
       "        text-align: right;\n",
       "    }\n",
       "</style>\n",
       "<table border=\"1\" class=\"dataframe\">\n",
       "  <thead>\n",
       "    <tr style=\"text-align: right;\">\n",
       "      <th></th>\n",
       "      <th>campaign_id</th>\n",
       "      <th>campaign_type</th>\n",
       "      <th>start_date</th>\n",
       "      <th>end_date</th>\n",
       "    </tr>\n",
       "  </thead>\n",
       "  <tbody>\n",
       "    <tr>\n",
       "      <th>16</th>\n",
       "      <td>7</td>\n",
       "      <td>Y</td>\n",
       "      <td>02/02/13</td>\n",
       "      <td>08/03/13</td>\n",
       "    </tr>\n",
       "    <tr>\n",
       "      <th>19</th>\n",
       "      <td>5</td>\n",
       "      <td>Y</td>\n",
       "      <td>12/01/13</td>\n",
       "      <td>15/02/13</td>\n",
       "    </tr>\n",
       "    <tr>\n",
       "      <th>12</th>\n",
       "      <td>12</td>\n",
       "      <td>Y</td>\n",
       "      <td>22/04/13</td>\n",
       "      <td>24/05/13</td>\n",
       "    </tr>\n",
       "    <tr>\n",
       "      <th>8</th>\n",
       "      <td>17</td>\n",
       "      <td>Y</td>\n",
       "      <td>29/07/13</td>\n",
       "      <td>30/08/13</td>\n",
       "    </tr>\n",
       "    <tr>\n",
       "      <th>24</th>\n",
       "      <td>29</td>\n",
       "      <td>Y</td>\n",
       "      <td>08/10/12</td>\n",
       "      <td>30/11/12</td>\n",
       "    </tr>\n",
       "    <tr>\n",
       "      <th>4</th>\n",
       "      <td>21</td>\n",
       "      <td>Y</td>\n",
       "      <td>16/09/13</td>\n",
       "      <td>18/10/13</td>\n",
       "    </tr>\n",
       "    <tr>\n",
       "      <th>6</th>\n",
       "      <td>18</td>\n",
       "      <td>X</td>\n",
       "      <td>10/08/13</td>\n",
       "      <td>04/10/13</td>\n",
       "    </tr>\n",
       "    <tr>\n",
       "      <th>23</th>\n",
       "      <td>30</td>\n",
       "      <td>X</td>\n",
       "      <td>19/11/12</td>\n",
       "      <td>04/01/13</td>\n",
       "    </tr>\n",
       "    <tr>\n",
       "      <th>3</th>\n",
       "      <td>23</td>\n",
       "      <td>Y</td>\n",
       "      <td>08/10/13</td>\n",
       "      <td>15/11/13</td>\n",
       "    </tr>\n",
       "    <tr>\n",
       "      <th>13</th>\n",
       "      <td>10</td>\n",
       "      <td>Y</td>\n",
       "      <td>08/04/13</td>\n",
       "      <td>10/05/13</td>\n",
       "    </tr>\n",
       "  </tbody>\n",
       "</table>\n",
       "</div>"
      ],
      "text/plain": [
       "    campaign_id campaign_type start_date  end_date\n",
       "16            7             Y   02/02/13  08/03/13\n",
       "19            5             Y   12/01/13  15/02/13\n",
       "12           12             Y   22/04/13  24/05/13\n",
       "8            17             Y   29/07/13  30/08/13\n",
       "24           29             Y   08/10/12  30/11/12\n",
       "4            21             Y   16/09/13  18/10/13\n",
       "6            18             X   10/08/13  04/10/13\n",
       "23           30             X   19/11/12  04/01/13\n",
       "3            23             Y   08/10/13  15/11/13\n",
       "13           10             Y   08/04/13  10/05/13"
      ]
     },
     "execution_count": 14,
     "metadata": {},
     "output_type": "execute_result"
    }
   ],
   "source": [
    "# considering campaign_data dataframe\n",
    "campaign_data.sample(10)"
   ]
  },
  {
   "cell_type": "code",
   "execution_count": 15,
   "id": "59a640a3-3b86-401e-8392-2959d47a85cd",
   "metadata": {},
   "outputs": [
    {
     "data": {
      "text/plain": [
       "(28, 4)"
      ]
     },
     "execution_count": 15,
     "metadata": {},
     "output_type": "execute_result"
    }
   ],
   "source": [
    "campaign_data.shape"
   ]
  },
  {
   "cell_type": "code",
   "execution_count": 16,
   "id": "5483e9bd-94a1-47a8-8fa1-6a016d421a8f",
   "metadata": {},
   "outputs": [
    {
     "data": {
      "text/plain": [
       "campaign_id       int64\n",
       "campaign_type    object\n",
       "start_date       object\n",
       "end_date         object\n",
       "dtype: object"
      ]
     },
     "execution_count": 16,
     "metadata": {},
     "output_type": "execute_result"
    }
   ],
   "source": [
    "campaign_data.dtypes"
   ]
  },
  {
   "cell_type": "markdown",
   "id": "1658e988-b0b8-420d-9f00-8213ce45d605",
   "metadata": {},
   "source": [
    "campaign_type represents Anonymised Campaign Type (X/Y), it should be of type category.\n",
    "start_date and end_date should be coverted to type datetime\n",
    "campaign_id should be of type category"
   ]
  },
  {
   "cell_type": "code",
   "execution_count": 18,
   "id": "8c3d1591-cdab-4af6-865a-c579c956b2d5",
   "metadata": {},
   "outputs": [],
   "source": [
    "campaign_data['campaign_id'] = campaign_data['campaign_id'].astype('category')\n",
    "campaign_data['campaign_type'] = campaign_data['campaign_type'].astype('category')\n",
    "campaign_data['start_date'] = pd.to_datetime(campaign_data['start_date'], format='%d/%m/%y')\n",
    "campaign_data['end_date'] = pd.to_datetime(campaign_data['end_date'], format='%d/%m/%y')\n"
   ]
  },
  {
   "cell_type": "code",
   "execution_count": 19,
   "id": "b5b619dc-a146-4fd5-9cf7-01059003f85f",
   "metadata": {},
   "outputs": [
    {
     "data": {
      "text/html": [
       "<div>\n",
       "<style scoped>\n",
       "    .dataframe tbody tr th:only-of-type {\n",
       "        vertical-align: middle;\n",
       "    }\n",
       "\n",
       "    .dataframe tbody tr th {\n",
       "        vertical-align: top;\n",
       "    }\n",
       "\n",
       "    .dataframe thead th {\n",
       "        text-align: right;\n",
       "    }\n",
       "</style>\n",
       "<table border=\"1\" class=\"dataframe\">\n",
       "  <thead>\n",
       "    <tr style=\"text-align: right;\">\n",
       "      <th></th>\n",
       "      <th>campaign_id</th>\n",
       "      <th>campaign_type</th>\n",
       "      <th>start_date</th>\n",
       "      <th>end_date</th>\n",
       "    </tr>\n",
       "  </thead>\n",
       "  <tbody>\n",
       "    <tr>\n",
       "      <th>0</th>\n",
       "      <td>24</td>\n",
       "      <td>Y</td>\n",
       "      <td>2013-10-21</td>\n",
       "      <td>2013-12-20</td>\n",
       "    </tr>\n",
       "    <tr>\n",
       "      <th>1</th>\n",
       "      <td>25</td>\n",
       "      <td>Y</td>\n",
       "      <td>2013-10-21</td>\n",
       "      <td>2013-11-22</td>\n",
       "    </tr>\n",
       "    <tr>\n",
       "      <th>2</th>\n",
       "      <td>20</td>\n",
       "      <td>Y</td>\n",
       "      <td>2013-09-07</td>\n",
       "      <td>2013-11-16</td>\n",
       "    </tr>\n",
       "    <tr>\n",
       "      <th>3</th>\n",
       "      <td>23</td>\n",
       "      <td>Y</td>\n",
       "      <td>2013-10-08</td>\n",
       "      <td>2013-11-15</td>\n",
       "    </tr>\n",
       "    <tr>\n",
       "      <th>4</th>\n",
       "      <td>21</td>\n",
       "      <td>Y</td>\n",
       "      <td>2013-09-16</td>\n",
       "      <td>2013-10-18</td>\n",
       "    </tr>\n",
       "  </tbody>\n",
       "</table>\n",
       "</div>"
      ],
      "text/plain": [
       "  campaign_id campaign_type start_date   end_date\n",
       "0          24             Y 2013-10-21 2013-12-20\n",
       "1          25             Y 2013-10-21 2013-11-22\n",
       "2          20             Y 2013-09-07 2013-11-16\n",
       "3          23             Y 2013-10-08 2013-11-15\n",
       "4          21             Y 2013-09-16 2013-10-18"
      ]
     },
     "execution_count": 19,
     "metadata": {},
     "output_type": "execute_result"
    }
   ],
   "source": [
    "campaign_data.head()"
   ]
  },
  {
   "cell_type": "code",
   "execution_count": 20,
   "id": "e6e170f9-4fd3-4c45-9a09-4a062388f9f9",
   "metadata": {},
   "outputs": [
    {
     "data": {
      "text/plain": [
       "campaign_id            category\n",
       "campaign_type          category\n",
       "start_date       datetime64[ns]\n",
       "end_date         datetime64[ns]\n",
       "dtype: object"
      ]
     },
     "execution_count": 20,
     "metadata": {},
     "output_type": "execute_result"
    }
   ],
   "source": [
    "campaign_data.dtypes"
   ]
  },
  {
   "cell_type": "code",
   "execution_count": 21,
   "id": "b3704e9c-80bd-43da-a193-0dfe9d3f8221",
   "metadata": {},
   "outputs": [
    {
     "data": {
      "text/plain": [
       "campaign_id      0\n",
       "campaign_type    0\n",
       "start_date       0\n",
       "end_date         0\n",
       "dtype: int64"
      ]
     },
     "execution_count": 21,
     "metadata": {},
     "output_type": "execute_result"
    }
   ],
   "source": [
    "#checking for missing values\n",
    "campaign_data.isnull().sum()"
   ]
  },
  {
   "cell_type": "code",
   "execution_count": 22,
   "id": "dab7ef33-cc7a-4a87-8426-3e3ef7decad7",
   "metadata": {},
   "outputs": [
    {
     "data": {
      "text/plain": [
       "0"
      ]
     },
     "execution_count": 22,
     "metadata": {},
     "output_type": "execute_result"
    }
   ],
   "source": [
    "#checking for duplicate rows\n",
    "campaign_data.duplicated().sum()"
   ]
  },
  {
   "cell_type": "code",
   "execution_count": 23,
   "id": "1797a166-6c97-4831-b236-08ab7b6db9e1",
   "metadata": {},
   "outputs": [
    {
     "data": {
      "text/html": [
       "<div>\n",
       "<style scoped>\n",
       "    .dataframe tbody tr th:only-of-type {\n",
       "        vertical-align: middle;\n",
       "    }\n",
       "\n",
       "    .dataframe tbody tr th {\n",
       "        vertical-align: top;\n",
       "    }\n",
       "\n",
       "    .dataframe thead th {\n",
       "        text-align: right;\n",
       "    }\n",
       "</style>\n",
       "<table border=\"1\" class=\"dataframe\">\n",
       "  <thead>\n",
       "    <tr style=\"text-align: right;\">\n",
       "      <th></th>\n",
       "      <th>coupon_id</th>\n",
       "      <th>item_id</th>\n",
       "    </tr>\n",
       "  </thead>\n",
       "  <tbody>\n",
       "    <tr>\n",
       "      <th>76226</th>\n",
       "      <td>30</td>\n",
       "      <td>5875</td>\n",
       "    </tr>\n",
       "    <tr>\n",
       "      <th>63235</th>\n",
       "      <td>29</td>\n",
       "      <td>18726</td>\n",
       "    </tr>\n",
       "    <tr>\n",
       "      <th>39536</th>\n",
       "      <td>9</td>\n",
       "      <td>46799</td>\n",
       "    </tr>\n",
       "    <tr>\n",
       "      <th>59635</th>\n",
       "      <td>23</td>\n",
       "      <td>57567</td>\n",
       "    </tr>\n",
       "    <tr>\n",
       "      <th>13349</th>\n",
       "      <td>891</td>\n",
       "      <td>57845</td>\n",
       "    </tr>\n",
       "    <tr>\n",
       "      <th>68561</th>\n",
       "      <td>32</td>\n",
       "      <td>9228</td>\n",
       "    </tr>\n",
       "    <tr>\n",
       "      <th>82873</th>\n",
       "      <td>32</td>\n",
       "      <td>35460</td>\n",
       "    </tr>\n",
       "    <tr>\n",
       "      <th>83605</th>\n",
       "      <td>32</td>\n",
       "      <td>8731</td>\n",
       "    </tr>\n",
       "    <tr>\n",
       "      <th>63604</th>\n",
       "      <td>31</td>\n",
       "      <td>23308</td>\n",
       "    </tr>\n",
       "    <tr>\n",
       "      <th>35288</th>\n",
       "      <td>7</td>\n",
       "      <td>11474</td>\n",
       "    </tr>\n",
       "  </tbody>\n",
       "</table>\n",
       "</div>"
      ],
      "text/plain": [
       "       coupon_id  item_id\n",
       "76226         30     5875\n",
       "63235         29    18726\n",
       "39536          9    46799\n",
       "59635         23    57567\n",
       "13349        891    57845\n",
       "68561         32     9228\n",
       "82873         32    35460\n",
       "83605         32     8731\n",
       "63604         31    23308\n",
       "35288          7    11474"
      ]
     },
     "execution_count": 23,
     "metadata": {},
     "output_type": "execute_result"
    }
   ],
   "source": [
    "#considering coupon_item_mapping dataframe\n",
    "coupon_item_mapping.sample(10)"
   ]
  },
  {
   "cell_type": "code",
   "execution_count": 24,
   "id": "eff66f52-824c-4b91-9e77-1289d52b61e5",
   "metadata": {},
   "outputs": [
    {
     "data": {
      "text/plain": [
       "(92663, 2)"
      ]
     },
     "execution_count": 24,
     "metadata": {},
     "output_type": "execute_result"
    }
   ],
   "source": [
    "coupon_item_mapping.shape"
   ]
  },
  {
   "cell_type": "code",
   "execution_count": 25,
   "id": "00c24bf3-9af7-4e12-a4c1-523e0a481614",
   "metadata": {},
   "outputs": [
    {
     "data": {
      "text/plain": [
       "coupon_id    int64\n",
       "item_id      int64\n",
       "dtype: object"
      ]
     },
     "execution_count": 25,
     "metadata": {},
     "output_type": "execute_result"
    }
   ],
   "source": [
    "coupon_item_mapping.dtypes"
   ]
  },
  {
   "cell_type": "markdown",
   "id": "9e985cdf-17c3-4a1a-bc4a-f8ab6b9a9d1b",
   "metadata": {},
   "source": [
    "Both the ids are of type int, should be converted to category"
   ]
  },
  {
   "cell_type": "code",
   "execution_count": 27,
   "id": "d81288a3-521d-46ef-9204-9afd0427d492",
   "metadata": {},
   "outputs": [],
   "source": [
    "coupon_item_mapping['coupon_id'] = coupon_item_mapping['coupon_id'].astype('category')\n",
    "coupon_item_mapping['item_id'] = coupon_item_mapping['item_id'].astype('category')"
   ]
  },
  {
   "cell_type": "code",
   "execution_count": 28,
   "id": "7738ed90-e475-41a4-b3f6-0758bd2f8aba",
   "metadata": {},
   "outputs": [
    {
     "data": {
      "text/plain": [
       "coupon_id    category\n",
       "item_id      category\n",
       "dtype: object"
      ]
     },
     "execution_count": 28,
     "metadata": {},
     "output_type": "execute_result"
    }
   ],
   "source": [
    "coupon_item_mapping.dtypes"
   ]
  },
  {
   "cell_type": "code",
   "execution_count": 29,
   "id": "54dde1a2-e84b-4b6c-af8b-2b38687b92f2",
   "metadata": {},
   "outputs": [
    {
     "data": {
      "text/plain": [
       "coupon_id    0\n",
       "item_id      0\n",
       "dtype: int64"
      ]
     },
     "execution_count": 29,
     "metadata": {},
     "output_type": "execute_result"
    }
   ],
   "source": [
    "#checking for missing values\n",
    "coupon_item_mapping.isnull().sum()"
   ]
  },
  {
   "cell_type": "code",
   "execution_count": 30,
   "id": "adae0f13-e122-4c20-9957-63109f96edb6",
   "metadata": {},
   "outputs": [
    {
     "data": {
      "text/plain": [
       "0"
      ]
     },
     "execution_count": 30,
     "metadata": {},
     "output_type": "execute_result"
    }
   ],
   "source": [
    "#checking for duplicate rows\n",
    "coupon_item_mapping.duplicated().sum()"
   ]
  },
  {
   "cell_type": "code",
   "execution_count": 31,
   "id": "7dca33cf-5900-4b4e-b677-f88b6fab1775",
   "metadata": {},
   "outputs": [
    {
     "data": {
      "text/html": [
       "<div>\n",
       "<style scoped>\n",
       "    .dataframe tbody tr th:only-of-type {\n",
       "        vertical-align: middle;\n",
       "    }\n",
       "\n",
       "    .dataframe tbody tr th {\n",
       "        vertical-align: top;\n",
       "    }\n",
       "\n",
       "    .dataframe thead th {\n",
       "        text-align: right;\n",
       "    }\n",
       "</style>\n",
       "<table border=\"1\" class=\"dataframe\">\n",
       "  <thead>\n",
       "    <tr style=\"text-align: right;\">\n",
       "      <th></th>\n",
       "      <th>customer_id</th>\n",
       "      <th>age_range</th>\n",
       "      <th>marital_status</th>\n",
       "      <th>rented</th>\n",
       "      <th>family_size</th>\n",
       "      <th>no_of_children</th>\n",
       "      <th>income_bracket</th>\n",
       "    </tr>\n",
       "  </thead>\n",
       "  <tbody>\n",
       "    <tr>\n",
       "      <th>5</th>\n",
       "      <td>11</td>\n",
       "      <td>70+</td>\n",
       "      <td>Single</td>\n",
       "      <td>0</td>\n",
       "      <td>2</td>\n",
       "      <td>NaN</td>\n",
       "      <td>1</td>\n",
       "    </tr>\n",
       "    <tr>\n",
       "      <th>330</th>\n",
       "      <td>663</td>\n",
       "      <td>56-70</td>\n",
       "      <td>NaN</td>\n",
       "      <td>0</td>\n",
       "      <td>1</td>\n",
       "      <td>NaN</td>\n",
       "      <td>1</td>\n",
       "    </tr>\n",
       "    <tr>\n",
       "      <th>432</th>\n",
       "      <td>886</td>\n",
       "      <td>46-55</td>\n",
       "      <td>Married</td>\n",
       "      <td>0</td>\n",
       "      <td>3</td>\n",
       "      <td>1</td>\n",
       "      <td>5</td>\n",
       "    </tr>\n",
       "    <tr>\n",
       "      <th>360</th>\n",
       "      <td>738</td>\n",
       "      <td>46-55</td>\n",
       "      <td>NaN</td>\n",
       "      <td>0</td>\n",
       "      <td>1</td>\n",
       "      <td>NaN</td>\n",
       "      <td>1</td>\n",
       "    </tr>\n",
       "    <tr>\n",
       "      <th>479</th>\n",
       "      <td>974</td>\n",
       "      <td>46-55</td>\n",
       "      <td>NaN</td>\n",
       "      <td>0</td>\n",
       "      <td>1</td>\n",
       "      <td>NaN</td>\n",
       "      <td>2</td>\n",
       "    </tr>\n",
       "    <tr>\n",
       "      <th>555</th>\n",
       "      <td>1154</td>\n",
       "      <td>46-55</td>\n",
       "      <td>Married</td>\n",
       "      <td>0</td>\n",
       "      <td>3</td>\n",
       "      <td>1</td>\n",
       "      <td>6</td>\n",
       "    </tr>\n",
       "    <tr>\n",
       "      <th>523</th>\n",
       "      <td>1083</td>\n",
       "      <td>26-35</td>\n",
       "      <td>Married</td>\n",
       "      <td>1</td>\n",
       "      <td>4</td>\n",
       "      <td>2</td>\n",
       "      <td>2</td>\n",
       "    </tr>\n",
       "    <tr>\n",
       "      <th>101</th>\n",
       "      <td>201</td>\n",
       "      <td>46-55</td>\n",
       "      <td>NaN</td>\n",
       "      <td>0</td>\n",
       "      <td>3</td>\n",
       "      <td>1</td>\n",
       "      <td>6</td>\n",
       "    </tr>\n",
       "    <tr>\n",
       "      <th>102</th>\n",
       "      <td>202</td>\n",
       "      <td>46-55</td>\n",
       "      <td>Married</td>\n",
       "      <td>0</td>\n",
       "      <td>2</td>\n",
       "      <td>NaN</td>\n",
       "      <td>6</td>\n",
       "    </tr>\n",
       "    <tr>\n",
       "      <th>126</th>\n",
       "      <td>250</td>\n",
       "      <td>36-45</td>\n",
       "      <td>NaN</td>\n",
       "      <td>0</td>\n",
       "      <td>1</td>\n",
       "      <td>NaN</td>\n",
       "      <td>9</td>\n",
       "    </tr>\n",
       "  </tbody>\n",
       "</table>\n",
       "</div>"
      ],
      "text/plain": [
       "     customer_id age_range marital_status  rented family_size no_of_children  \\\n",
       "5             11       70+         Single       0           2            NaN   \n",
       "330          663     56-70            NaN       0           1            NaN   \n",
       "432          886     46-55        Married       0           3              1   \n",
       "360          738     46-55            NaN       0           1            NaN   \n",
       "479          974     46-55            NaN       0           1            NaN   \n",
       "555         1154     46-55        Married       0           3              1   \n",
       "523         1083     26-35        Married       1           4              2   \n",
       "101          201     46-55            NaN       0           3              1   \n",
       "102          202     46-55        Married       0           2            NaN   \n",
       "126          250     36-45            NaN       0           1            NaN   \n",
       "\n",
       "     income_bracket  \n",
       "5                 1  \n",
       "330               1  \n",
       "432               5  \n",
       "360               1  \n",
       "479               2  \n",
       "555               6  \n",
       "523               2  \n",
       "101               6  \n",
       "102               6  \n",
       "126               9  "
      ]
     },
     "execution_count": 31,
     "metadata": {},
     "output_type": "execute_result"
    }
   ],
   "source": [
    "#considering customer_demographics dataframe\n",
    "customer_demographics.sample(10)"
   ]
  },
  {
   "cell_type": "code",
   "execution_count": 32,
   "id": "77dfcc59-a153-4d49-848c-bc204c10d019",
   "metadata": {},
   "outputs": [
    {
     "data": {
      "text/plain": [
       "(760, 7)"
      ]
     },
     "execution_count": 32,
     "metadata": {},
     "output_type": "execute_result"
    }
   ],
   "source": [
    "customer_demographics.shape"
   ]
  },
  {
   "cell_type": "code",
   "execution_count": 33,
   "id": "0853171c-156d-4cca-a6cb-2119a13a5030",
   "metadata": {},
   "outputs": [
    {
     "data": {
      "text/plain": [
       "customer_id        int64\n",
       "age_range         object\n",
       "marital_status    object\n",
       "rented             int64\n",
       "family_size       object\n",
       "no_of_children    object\n",
       "income_bracket     int64\n",
       "dtype: object"
      ]
     },
     "execution_count": 33,
     "metadata": {},
     "output_type": "execute_result"
    }
   ],
   "source": [
    "customer_demographics.dtypes"
   ]
  },
  {
   "cell_type": "markdown",
   "id": "8a76f3a1-4848-472b-bb3f-8f6259ad65ea",
   "metadata": {},
   "source": [
    "customer_id should be of type category\n",
    "age-range represents age range of customer family in years , should be converted to category \n",
    "marital_status contains two categories: single and married, should be converted to category\n",
    "rented represents 0 - not rented accommodation, 1 - rented accommodation, should be converted to category\n",
    "income_bracket represents label encoded income bracket, it should be converted to ordinal category"
   ]
  },
  {
   "cell_type": "code",
   "execution_count": 35,
   "id": "67efe554-e20f-4e81-ad06-822348a8433f",
   "metadata": {},
   "outputs": [],
   "source": [
    "#converting datatypes\n",
    "customer_demographics['customer_id'] = customer_demographics['customer_id'].astype('category')\n",
    "customer_demographics['age_range'] = customer_demographics['age_range'].astype('category')\n",
    "customer_demographics['marital_status'] = customer_demographics['marital_status'].astype('category')\n",
    "customer_demographics['rented'] = customer_demographics['rented'].astype('category')\n"
   ]
  },
  {
   "cell_type": "code",
   "execution_count": 36,
   "id": "cace8508-b08e-4af2-8b46-38a9d0d7f3e0",
   "metadata": {},
   "outputs": [
    {
     "data": {
      "text/plain": [
       "family_size\n",
       "2     303\n",
       "1     248\n",
       "3     104\n",
       "5+     57\n",
       "4      48\n",
       "Name: count, dtype: int64"
      ]
     },
     "execution_count": 36,
     "metadata": {},
     "output_type": "execute_result"
    }
   ],
   "source": [
    "customer_demographics['family_size'].value_counts()"
   ]
  },
  {
   "cell_type": "markdown",
   "id": "5106ded4-26f6-4c9f-be2f-bc4f22f900e8",
   "metadata": {},
   "source": [
    "As the family_size contains mixed datatype, integers and string, converting it into category"
   ]
  },
  {
   "cell_type": "code",
   "execution_count": 38,
   "id": "82026f1f-9fb3-4fbf-84d9-fa4484f09125",
   "metadata": {},
   "outputs": [],
   "source": [
    "customer_demographics['family_size'] = customer_demographics['family_size'].astype('category')"
   ]
  },
  {
   "cell_type": "code",
   "execution_count": 39,
   "id": "74bfb3f3-0395-4367-a6da-d9f36e9a30b4",
   "metadata": {},
   "outputs": [
    {
     "data": {
      "text/plain": [
       "no_of_children\n",
       "1     107\n",
       "3+     60\n",
       "2      55\n",
       "Name: count, dtype: int64"
      ]
     },
     "execution_count": 39,
     "metadata": {},
     "output_type": "execute_result"
    }
   ],
   "source": [
    "customer_demographics['no_of_children'].value_counts()"
   ]
  },
  {
   "cell_type": "markdown",
   "id": "96009398-4733-49d0-8755-960b65b6c004",
   "metadata": {},
   "source": [
    "Same as , no_of_children contains mixed datatype, integers and string, converting it into category"
   ]
  },
  {
   "cell_type": "code",
   "execution_count": 41,
   "id": "36a1d170-13c8-4eb8-b892-02c9f11e5195",
   "metadata": {},
   "outputs": [],
   "source": [
    "customer_demographics['no_of_children'] = customer_demographics['no_of_children'].astype('category')"
   ]
  },
  {
   "cell_type": "code",
   "execution_count": 42,
   "id": "3d9fd654-5088-4a1a-be49-8892fccc54a6",
   "metadata": {},
   "outputs": [
    {
     "data": {
      "text/plain": [
       "income_bracket\n",
       "5     187\n",
       "4     165\n",
       "6      88\n",
       "3      70\n",
       "2      68\n",
       "1      59\n",
       "8      37\n",
       "7      32\n",
       "9      29\n",
       "12     10\n",
       "10     10\n",
       "11      5\n",
       "Name: count, dtype: int64"
      ]
     },
     "execution_count": 42,
     "metadata": {},
     "output_type": "execute_result"
    }
   ],
   "source": [
    "customer_demographics['income_bracket'].value_counts()"
   ]
  },
  {
   "cell_type": "code",
   "execution_count": 44,
   "id": "2389931f-4b62-40d8-b804-5a2ae9f70977",
   "metadata": {},
   "outputs": [],
   "source": [
    "#converting income_bracket into into ordinal ctegory\n",
    "values = [1, 2, 3, 4, 5, 6, 7, 8, 9,10, 11, 12]\n",
    "customer_demographics['income_bracket'] = pd.Categorical(\n",
    "    customer_demographics['income_bracket'],\n",
    "    categories=values,\n",
    "    ordered=True\n",
    ")\n"
   ]
  },
  {
   "cell_type": "code",
   "execution_count": 45,
   "id": "f96510cd-af84-4f7b-9004-7779bfe48332",
   "metadata": {},
   "outputs": [
    {
     "data": {
      "text/html": [
       "<div>\n",
       "<style scoped>\n",
       "    .dataframe tbody tr th:only-of-type {\n",
       "        vertical-align: middle;\n",
       "    }\n",
       "\n",
       "    .dataframe tbody tr th {\n",
       "        vertical-align: top;\n",
       "    }\n",
       "\n",
       "    .dataframe thead th {\n",
       "        text-align: right;\n",
       "    }\n",
       "</style>\n",
       "<table border=\"1\" class=\"dataframe\">\n",
       "  <thead>\n",
       "    <tr style=\"text-align: right;\">\n",
       "      <th></th>\n",
       "      <th>customer_id</th>\n",
       "      <th>age_range</th>\n",
       "      <th>marital_status</th>\n",
       "      <th>rented</th>\n",
       "      <th>family_size</th>\n",
       "      <th>no_of_children</th>\n",
       "      <th>income_bracket</th>\n",
       "    </tr>\n",
       "  </thead>\n",
       "  <tbody>\n",
       "    <tr>\n",
       "      <th>634</th>\n",
       "      <td>1322</td>\n",
       "      <td>46-55</td>\n",
       "      <td>Married</td>\n",
       "      <td>0</td>\n",
       "      <td>2</td>\n",
       "      <td>NaN</td>\n",
       "      <td>5</td>\n",
       "    </tr>\n",
       "    <tr>\n",
       "      <th>619</th>\n",
       "      <td>1296</td>\n",
       "      <td>26-35</td>\n",
       "      <td>Single</td>\n",
       "      <td>0</td>\n",
       "      <td>2</td>\n",
       "      <td>NaN</td>\n",
       "      <td>8</td>\n",
       "    </tr>\n",
       "    <tr>\n",
       "      <th>723</th>\n",
       "      <td>1492</td>\n",
       "      <td>46-55</td>\n",
       "      <td>Married</td>\n",
       "      <td>1</td>\n",
       "      <td>2</td>\n",
       "      <td>NaN</td>\n",
       "      <td>3</td>\n",
       "    </tr>\n",
       "    <tr>\n",
       "      <th>337</th>\n",
       "      <td>679</td>\n",
       "      <td>36-45</td>\n",
       "      <td>Single</td>\n",
       "      <td>1</td>\n",
       "      <td>2</td>\n",
       "      <td>NaN</td>\n",
       "      <td>4</td>\n",
       "    </tr>\n",
       "    <tr>\n",
       "      <th>144</th>\n",
       "      <td>286</td>\n",
       "      <td>46-55</td>\n",
       "      <td>Single</td>\n",
       "      <td>0</td>\n",
       "      <td>1</td>\n",
       "      <td>NaN</td>\n",
       "      <td>5</td>\n",
       "    </tr>\n",
       "    <tr>\n",
       "      <th>674</th>\n",
       "      <td>1392</td>\n",
       "      <td>36-45</td>\n",
       "      <td>NaN</td>\n",
       "      <td>0</td>\n",
       "      <td>3</td>\n",
       "      <td>2</td>\n",
       "      <td>5</td>\n",
       "    </tr>\n",
       "    <tr>\n",
       "      <th>560</th>\n",
       "      <td>1167</td>\n",
       "      <td>46-55</td>\n",
       "      <td>NaN</td>\n",
       "      <td>0</td>\n",
       "      <td>1</td>\n",
       "      <td>NaN</td>\n",
       "      <td>5</td>\n",
       "    </tr>\n",
       "    <tr>\n",
       "      <th>494</th>\n",
       "      <td>1011</td>\n",
       "      <td>46-55</td>\n",
       "      <td>Married</td>\n",
       "      <td>0</td>\n",
       "      <td>5+</td>\n",
       "      <td>3+</td>\n",
       "      <td>8</td>\n",
       "    </tr>\n",
       "    <tr>\n",
       "      <th>539</th>\n",
       "      <td>1121</td>\n",
       "      <td>18-25</td>\n",
       "      <td>Married</td>\n",
       "      <td>0</td>\n",
       "      <td>3</td>\n",
       "      <td>1</td>\n",
       "      <td>5</td>\n",
       "    </tr>\n",
       "    <tr>\n",
       "      <th>145</th>\n",
       "      <td>287</td>\n",
       "      <td>26-35</td>\n",
       "      <td>NaN</td>\n",
       "      <td>0</td>\n",
       "      <td>2</td>\n",
       "      <td>1</td>\n",
       "      <td>2</td>\n",
       "    </tr>\n",
       "  </tbody>\n",
       "</table>\n",
       "</div>"
      ],
      "text/plain": [
       "    customer_id age_range marital_status rented family_size no_of_children  \\\n",
       "634        1322     46-55        Married      0           2            NaN   \n",
       "619        1296     26-35         Single      0           2            NaN   \n",
       "723        1492     46-55        Married      1           2            NaN   \n",
       "337         679     36-45         Single      1           2            NaN   \n",
       "144         286     46-55         Single      0           1            NaN   \n",
       "674        1392     36-45            NaN      0           3              2   \n",
       "560        1167     46-55            NaN      0           1            NaN   \n",
       "494        1011     46-55        Married      0          5+             3+   \n",
       "539        1121     18-25        Married      0           3              1   \n",
       "145         287     26-35            NaN      0           2              1   \n",
       "\n",
       "    income_bracket  \n",
       "634              5  \n",
       "619              8  \n",
       "723              3  \n",
       "337              4  \n",
       "144              5  \n",
       "674              5  \n",
       "560              5  \n",
       "494              8  \n",
       "539              5  \n",
       "145              2  "
      ]
     },
     "execution_count": 45,
     "metadata": {},
     "output_type": "execute_result"
    }
   ],
   "source": [
    "customer_demographics.sample(10)"
   ]
  },
  {
   "cell_type": "code",
   "execution_count": 83,
   "id": "3d58bed3-55cb-416f-9459-817ccbc7fde6",
   "metadata": {},
   "outputs": [
    {
     "data": {
      "text/plain": [
       "customer_id         0\n",
       "age_range           0\n",
       "marital_status    329\n",
       "rented              0\n",
       "family_size         0\n",
       "no_of_children    538\n",
       "income_bracket      0\n",
       "dtype: int64"
      ]
     },
     "execution_count": 83,
     "metadata": {},
     "output_type": "execute_result"
    }
   ],
   "source": [
    "#checking for missing values as we can see from above they are present in marital_status and  no_of_children\n",
    "customer_demographics.isnull().sum()"
   ]
  },
  {
   "cell_type": "code",
   "execution_count": 85,
   "id": "ec9288f4-58cf-4d29-bac3-01cde39fc4e2",
   "metadata": {},
   "outputs": [
    {
     "data": {
      "text/plain": [
       "customer_id        0.000000\n",
       "age_range          0.000000\n",
       "marital_status    43.289474\n",
       "rented             0.000000\n",
       "family_size        0.000000\n",
       "no_of_children    70.789474\n",
       "income_bracket     0.000000\n",
       "dtype: float64"
      ]
     },
     "execution_count": 85,
     "metadata": {},
     "output_type": "execute_result"
    }
   ],
   "source": [
    "# checking the missing value percentage\n",
    "(customer_demographics.isnull().sum()/len(customer_demographics)) * 100"
   ]
  },
  {
   "cell_type": "markdown",
   "id": "cc431285-f79b-429e-a8f9-fcd110f6f30e",
   "metadata": {},
   "source": [
    "Here, 43% of data in marital_status and around 71% data in no_of_children are missing, which is very huge amount"
   ]
  },
  {
   "cell_type": "code",
   "execution_count": null,
   "id": "eec417a6-1eb3-4c0b-992e-303cfceddcf4",
   "metadata": {},
   "outputs": [],
   "source": []
  }
 ],
 "metadata": {
  "kernelspec": {
   "display_name": "Python [conda env:base] *",
   "language": "python",
   "name": "conda-base-py"
  },
  "language_info": {
   "codemirror_mode": {
    "name": "ipython",
    "version": 3
   },
   "file_extension": ".py",
   "mimetype": "text/x-python",
   "name": "python",
   "nbconvert_exporter": "python",
   "pygments_lexer": "ipython3",
   "version": "3.12.7"
  }
 },
 "nbformat": 4,
 "nbformat_minor": 5
}
